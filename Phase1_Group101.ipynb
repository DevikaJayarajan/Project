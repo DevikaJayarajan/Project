{
 "cells": [
  {
   "cell_type": "markdown",
   "id": "ce7cc162-4739-4a7c-a87d-1493fc49e542",
   "metadata": {
    "jp-MarkdownHeadingCollapsed": true
   },
   "source": [
    "_______________________________________________________________________________________________________________________\n",
    "\n",
    "# Group Number: **101**\n",
    "_______________________________________________________________________________________________________________________\n",
    "## Name: Karishma Ravikant Shinde\n",
    "## Student ID: s4127231\n",
    "_______________________________________________________________________________________________________________________\n",
    "## Name: Devika Jayraj\n",
    "## Student ID: s4031304\n",
    "_______________________________________________________________________________________________________________________"
   ]
  },
  {
   "cell_type": "markdown",
   "id": "d53f51ff",
   "metadata": {},
   "source": [
    "# Customer Churn in a Telecom Dataset"
   ]
  },
  {
   "cell_type": "markdown",
   "id": "9a44d998-852c-49de-9061-c9d381a22afd",
   "metadata": {},
   "source": [
    "_______________________________________________________________________________________________________________________\n",
    "# Table of Contents\n",
    "_______________________________________________________________________________________________________________________\n",
    "\n",
    "1. [Introduction](#Task-1:-Introduction)\n",
    "   \n",
    "   1.1 [Dataset source](#Task-1.1:-Dataset-Source)\n",
    "   \n",
    "   1.2 [Dataset Details](#Task-1.2:-Dataset-Details)\n",
    "\n",
    "   1.3 [Dataset Features](#Task-1.3:-Dataset-Features)\n",
    "\n",
    "   1.4 [Target Feature](#Task-1.4:-Target-Feature)\n",
    "_______________________________________________________________________________________________________________________\n",
    "\n",
    "\n",
    "2. [Goals & Objectives](#Task-2:-Goals-and-Objectives)\n",
    "\n",
    "_______________________________________________________________________________________________________________________\n",
    "\n",
    "\n",
    "3. [Data Cleaning & Preprocessing](#Task-3:-Data-Cleaning-&-Preprocessing)\n",
    "\n",
    "   3.1 [Loading the dataset](#Task-3.1:-Loading-the-dataset)\n",
    "\n",
    "   3.2 [Previewing the dataset](#Task-3.2:-Previewing-Data)\n",
    "\n",
    "   3.3 [Handling Missing values](#Task-3.3:-Handling-missing-values)\n",
    "\n",
    "   3.4 [Sampling the dataset](#Task-3.4:-Sampling-the-Dataset)\n",
    "\n",
    "   3.5 [Descriptive Statistics](#Task-3.5:-Descriptive-statistics-using-numpy)\n",
    "\n",
    "   3.6 [Outliers](#Task-3.6:-Outliers)\n",
    "\n",
    "   3.7 [Handling Duplicate Values](#Task-3.7:-Handling-Duplicate-values)\n",
    "\n",
    "   3.8 [Aggregations](#Task-3.8:-Aggregations)\n",
    "\n",
    "_______________________________________________________________________________________________________________________\n",
    "\n",
    "4. [Data Visualization](#Task-4:-Data-Visualization)\n",
    "\n",
    "   4.1 [One Variable Visualizations](#Task-4.1:-One-Variable-Visualization)\n",
    "\n",
    "   4.2 [Two Variable Visualizations](#Task-4.2:-Two-Variables-Visualization)\n",
    "\n",
    "   4.3 [Three Variable Visualization](#Task-4.3:-Three-Variables-Visualization)\n",
    "\n",
    "   4.4 [Literature Review](#Task-4.4:-Literature-Review)\n",
    "\n",
    "_______________________________________________________________________________________________________________________\n",
    "\n",
    "5. [Summary and Conclusion](#Task-5:-Summary-and-Conclusion)\n",
    "\n",
    "_______________________________________________________________________________________________________________________\n",
    "\n",
    "6. [Reference](#Task-6:-Reference)\n",
    "\n",
    "_______________________________________________________________________________________________________________________"
   ]
  },
  {
   "cell_type": "markdown",
   "id": "3871cc70",
   "metadata": {},
   "source": [
    "# Task 1: Introduction"
   ]
  },
  {
   "cell_type": "markdown",
   "id": "4031c1c0",
   "metadata": {},
   "source": [
    "## Task 1.1: Dataset Source \n",
    "\n",
    " The dataset used in this project is the Telco Customer Churn dataset, which is publicly available on GitHub. It provides customer information about telecom company to analyze customer attrition behavior."
   ]
  },
  {
   "cell_type": "markdown",
   "id": "29fa7ba6",
   "metadata": {},
   "source": [
    "## Task 1.2: Dataset Details\n",
    "\n",
    "The Telco Customer Churn dataset includes information about customers of a telecom service provider, such as demographic info, account details, and services they have signed up for. The goal is to predict whether a customer will churn or not based on the features provided by the company."
   ]
  },
  {
   "cell_type": "markdown",
   "id": "3de87106-e322-4290-b0b5-c851dab2c13f",
   "metadata": {
    "jp-MarkdownHeadingCollapsed": true
   },
   "source": [
    "## Task 1.3: Dataset Features\n",
    "<style>\n",
    "  table {\n",
    "    margin: auto;\n",
    "    width: 100%; /* Adjust the width as needed */\n",
    "  }\n",
    "  td {\n",
    "    text-align: justify;\n",
    "    padding: 8px; /* Adding padding for better readability */\n",
    "  }\n",
    "  th\n",
    "  {\n",
    "    text-align: center;\n",
    "  }\n",
    "</style>\n",
    "\n",
    "<table>\n",
    "    <tr>\n",
    "        <th>No.</th>\n",
    "        <th> Name of the Feature </th>\n",
    "        <th> Data Type </th>\n",
    "        <th> Units </th> \n",
    "        <th> Brief Description </th> \n",
    "    </tr>\n",
    "    <tr>\n",
    "        <th>1.</th>\n",
    "        <td>Gender</td>\n",
    "        <td>Categorical</td>\n",
    "        <td>N/A</td>\n",
    "        <td> Customer's gender </td>\n",
    "    </tr>\n",
    "    <tr>\n",
    "        <th>2.</th>\n",
    "        <td>Senior Citizen</td>\n",
    "        <td>Categoric</td>\n",
    "        <td>N/A</td>\n",
    "        <td> Shows if customer is senior citizen or not.</td>\n",
    "    </tr>\n",
    "    <tr>\n",
    "        <th>3.</th>\n",
    "        <td>Partner </td>\n",
    "        <td>Categoric</td>\n",
    "        <td>N/A</td>\n",
    "        <td> Shows if customer has a partner or not.</td>\n",
    "    </tr>\n",
    "    <tr>\n",
    "        <th>4.</th>\n",
    "        <td>Dependents</td>\n",
    "        <td>Categoric</td>\n",
    "        <td>N/A</td>\n",
    "        <td> Shows if customer has dependents or not.</td>\n",
    "    </tr>\n",
    "    <tr>\n",
    "        <th>5.</th>\n",
    "        <td>Tenure</td>\n",
    "        <td>Numeric</td>\n",
    "        <td>Months</td>\n",
    "        <td>COntains number of months customer is using service for.</td>\n",
    "    </tr>\n",
    "    <tr>\n",
    "        <th>6.</th>\n",
    "        <td>Phone Service</td>\n",
    "        <td>Categoric</td>\n",
    "        <td>N/A</td>\n",
    "        <td>Shows if customer has phone service or not.</td>\n",
    "    </tr>\n",
    "    <tr>\n",
    "        <th>7.</th>\n",
    "        <td>Multiple Lines</td>\n",
    "        <td>Categoric</td>\n",
    "        <td>N/A</td>\n",
    "        <td>Shows if customer has multiple phone lines or not.</td>\n",
    "    </tr>\n",
    "    <tr>\n",
    "        <th>8.</th>\n",
    "        <td>Internet Service</td>\n",
    "        <td>Categoric</td>\n",
    "        <td>N/A</td>\n",
    "        <td>Shows which internet service a customer is using.</td>\n",
    "    </tr>\n",
    "    <tr>\n",
    "        <th>9.</th>\n",
    "        <td>Online Security</td>\n",
    "        <td>Categoric</td>\n",
    "        <td>N/A</td>\n",
    "        <td>Shows if customer has online security plan/feature included.</td>\n",
    "    </tr>\n",
    "    <tr>\n",
    "        <th>10.</th>\n",
    "        <td>Online Backup</td>\n",
    "        <td>Categoric</td>\n",
    "        <td>N/A</td>\n",
    "        <td>Shows if customer has online backup plan/feature included.</td>\n",
    "    </tr>\n",
    "    <tr>\n",
    "        <th>11.</th>\n",
    "        <td>Device Protection</td>\n",
    "        <td>Categoric</td>\n",
    "        <td>N/A</td>\n",
    "        <td>Shows if customer has Device Protection.</td>\n",
    "    </tr>\n",
    "    <tr>\n",
    "        <th>12.</th>\n",
    "        <td>Tech Support</td>\n",
    "        <td>Categoric</td>\n",
    "        <td>N/A</td>\n",
    "        <td>Shows if customer has Tech Support.</td>\n",
    "    </tr>\n",
    "    <tr>\n",
    "        <th>13.</th>\n",
    "        <td>Streaming TV</td>\n",
    "        <td>Categoric</td>\n",
    "        <td>N/A</td>\n",
    "        <td>Shows if customer streams TV or not</td>\n",
    "    </tr>\n",
    "    <tr>\n",
    "        <th>14.</th>\n",
    "        <td>Streaming Movies</td>\n",
    "        <td>Categoric</td>\n",
    "        <td>N/A</td>\n",
    "        <td>Shows if customer streams movies or not</td>\n",
    "    </tr>\n",
    "    <tr>\n",
    "        <th>15.</th>\n",
    "        <td>Contract</td>\n",
    "        <td>Categoric</td>\n",
    "        <td>N/A</td>\n",
    "        <td>Shows which contract a customer has.</td>\n",
    "    </tr>\n",
    "    <tr>\n",
    "        <th>16.</th>\n",
    "        <td>Paperless Billing </td>\n",
    "        <td>Categoric</td>\n",
    "        <td>N/A</td>\n",
    "        <td>Shows if customer billing paperless or not.</td>\n",
    "    </tr>\n",
    "    <tr>\n",
    "        <th>17.</th>\n",
    "        <td>Payment Method</td>\n",
    "        <td>Categoric</td>\n",
    "        <td>N/A</td>\n",
    "        <td>Shows which method of payment a customer is using.</td>\n",
    "    </tr>\n",
    "    <tr>\n",
    "        <th>18.</th>\n",
    "        <td>Monthly Charges </td>\n",
    "        <td>Numeric</td>\n",
    "        <td>Dollars</td>\n",
    "        <td>Shows monthly charges a customer is paying.</td>\n",
    "    </tr>\n",
    "    <tr>\n",
    "        <th>19.</th>\n",
    "        <td>Total Charges</td>\n",
    "        <td>Numeric</td>\n",
    "        <td>Dollars</td>\n",
    "        <td>Shows total amount a customer has spent.</td>\n",
    "    </tr>\n",
    "    <tr>\n",
    "        <th>20.</th>\n",
    "        <td>Churn</td>\n",
    "        <td>Categoric</td>\n",
    "        <td>N/A</td>\n",
    "        <td>Shows if a customer has chosen to discontinue the service(churned).</td>\n",
    "    </tr>\n",
    "</table>"
   ]
  },
  {
   "cell_type": "markdown",
   "id": "cc25e9bd",
   "metadata": {},
   "source": [
    "## Task 1.4: Target Feature\n",
    "\n",
    "In this project, the target feature is: **Churn**\n",
    "\n",
    "This feature indicates whether a customer has left the telecom company or not. These is the feature we will be predicting later on in or assigment.\n",
    "\n",
    "For a telecommunication comapny, making customers stay/keep using their services is a harder task then gaining new customers.\n",
    "And hence that's what we will be accessing, what factors are affecting our target variable."
   ]
  },
  {
   "cell_type": "markdown",
   "id": "fc37e1ba",
   "metadata": {},
   "source": [
    "# Task 2: Goals and Objectives\n",
    "\n",
    "One of our target fields to work in is telecommunication, a data-rich industry that offers a lot of opportunities for data-driven decision-making. With companies like Telstra and Optus continuing to expand their services and customer base, understanding customer behavior, especially churnning is important for maintaining competitive advantage. This inspired us to dive into a telecom dataset and perform exploratory data analysis to discover early insights into what might influence customer retention.\n",
    "\n",
    "As part of our analysis, we used various data visualizations: such as bar plots, count plots, and histogram to better understand customer behavior across different demographics and services. These visual tools helped us identify important patterns in the data.\n",
    "\n",
    "Through this assignment, we aimed to strengthen our understanding of industry relevant data and develop the analytical thinking necessary to contribute meaningfully in a data-driven telecom environment."
   ]
  },
  {
   "cell_type": "markdown",
   "id": "06238aca-0ab6-4526-8076-0116a98b5136",
   "metadata": {},
   "source": [
    "# Task 3: Data Cleaning & Preprocessing"
   ]
  },
  {
   "cell_type": "markdown",
   "id": "534d8380",
   "metadata": {},
   "source": [
    "### Importing required libraries"
   ]
  },
  {
   "cell_type": "code",
   "execution_count": 4,
   "id": "eaa62f30",
   "metadata": {},
   "outputs": [],
   "source": [
    "import pandas as pd\n",
    "import numpy as np\n",
    "import matplotlib.pyplot as plt\n",
    "%matplotlib inline\n",
    "import seaborn as sns"
   ]
  },
  {
   "cell_type": "code",
   "execution_count": 5,
   "id": "a15d1167-5865-4f56-959e-0829d72b77c5",
   "metadata": {},
   "outputs": [],
   "source": [
    "#to ignore warnings\n",
    "import warnings\n",
    "warnings.filterwarnings('ignore')"
   ]
  },
  {
   "cell_type": "code",
   "execution_count": 6,
   "id": "3ab28f64",
   "metadata": {},
   "outputs": [],
   "source": [
    "pd.set_option('display.max_columns', None)"
   ]
  },
  {
   "cell_type": "markdown",
   "id": "783bb5e3",
   "metadata": {},
   "source": [
    "## Task 3.1: Loading the dataset"
   ]
  },
  {
   "cell_type": "code",
   "execution_count": 11,
   "id": "1774a170",
   "metadata": {},
   "outputs": [],
   "source": [
    "df = pd.read_csv(\"Phase1_Group101.csv\")"
   ]
  },
  {
   "cell_type": "markdown",
   "id": "a0e0c640",
   "metadata": {},
   "source": [
    "## Task 3.2: Previewing Data"
   ]
  },
  {
   "cell_type": "code",
   "execution_count": 18,
   "id": "c83272a5",
   "metadata": {},
   "outputs": [
    {
     "data": {
      "text/html": [
       "<div>\n",
       "<style scoped>\n",
       "    .dataframe tbody tr th:only-of-type {\n",
       "        vertical-align: middle;\n",
       "    }\n",
       "\n",
       "    .dataframe tbody tr th {\n",
       "        vertical-align: top;\n",
       "    }\n",
       "\n",
       "    .dataframe thead th {\n",
       "        text-align: right;\n",
       "    }\n",
       "</style>\n",
       "<table border=\"1\" class=\"dataframe\">\n",
       "  <thead>\n",
       "    <tr style=\"text-align: right;\">\n",
       "      <th></th>\n",
       "      <th>gender</th>\n",
       "      <th>SeniorCitizen</th>\n",
       "      <th>Partner</th>\n",
       "      <th>Dependents</th>\n",
       "      <th>tenure</th>\n",
       "      <th>PhoneService</th>\n",
       "      <th>MultipleLines</th>\n",
       "      <th>InternetService</th>\n",
       "      <th>OnlineSecurity</th>\n",
       "      <th>OnlineBackup</th>\n",
       "      <th>DeviceProtection</th>\n",
       "      <th>TechSupport</th>\n",
       "      <th>StreamingTV</th>\n",
       "      <th>StreamingMovies</th>\n",
       "      <th>Contract</th>\n",
       "      <th>PaperlessBilling</th>\n",
       "      <th>PaymentMethod</th>\n",
       "      <th>MonthlyCharges</th>\n",
       "      <th>TotalCharges</th>\n",
       "      <th>Churn</th>\n",
       "    </tr>\n",
       "  </thead>\n",
       "  <tbody>\n",
       "    <tr>\n",
       "      <th>0</th>\n",
       "      <td>Female</td>\n",
       "      <td>0</td>\n",
       "      <td>Yes</td>\n",
       "      <td>No</td>\n",
       "      <td>1</td>\n",
       "      <td>No</td>\n",
       "      <td>No phone service</td>\n",
       "      <td>DSL</td>\n",
       "      <td>No</td>\n",
       "      <td>Yes</td>\n",
       "      <td>No</td>\n",
       "      <td>No</td>\n",
       "      <td>No</td>\n",
       "      <td>No</td>\n",
       "      <td>Month-to-month</td>\n",
       "      <td>Yes</td>\n",
       "      <td>Electronic check</td>\n",
       "      <td>29.85</td>\n",
       "      <td>29.85</td>\n",
       "      <td>No</td>\n",
       "    </tr>\n",
       "    <tr>\n",
       "      <th>1</th>\n",
       "      <td>Male</td>\n",
       "      <td>0</td>\n",
       "      <td>No</td>\n",
       "      <td>No</td>\n",
       "      <td>34</td>\n",
       "      <td>Yes</td>\n",
       "      <td>No</td>\n",
       "      <td>DSL</td>\n",
       "      <td>Yes</td>\n",
       "      <td>No</td>\n",
       "      <td>Yes</td>\n",
       "      <td>No</td>\n",
       "      <td>No</td>\n",
       "      <td>No</td>\n",
       "      <td>One year</td>\n",
       "      <td>No</td>\n",
       "      <td>Mailed check</td>\n",
       "      <td>56.95</td>\n",
       "      <td>1889.5</td>\n",
       "      <td>No</td>\n",
       "    </tr>\n",
       "    <tr>\n",
       "      <th>2</th>\n",
       "      <td>Male</td>\n",
       "      <td>0</td>\n",
       "      <td>No</td>\n",
       "      <td>No</td>\n",
       "      <td>2</td>\n",
       "      <td>Yes</td>\n",
       "      <td>No</td>\n",
       "      <td>DSL</td>\n",
       "      <td>Yes</td>\n",
       "      <td>Yes</td>\n",
       "      <td>No</td>\n",
       "      <td>No</td>\n",
       "      <td>No</td>\n",
       "      <td>No</td>\n",
       "      <td>Month-to-month</td>\n",
       "      <td>Yes</td>\n",
       "      <td>Mailed check</td>\n",
       "      <td>53.85</td>\n",
       "      <td>108.15</td>\n",
       "      <td>Yes</td>\n",
       "    </tr>\n",
       "    <tr>\n",
       "      <th>3</th>\n",
       "      <td>Male</td>\n",
       "      <td>0</td>\n",
       "      <td>No</td>\n",
       "      <td>No</td>\n",
       "      <td>45</td>\n",
       "      <td>No</td>\n",
       "      <td>No phone service</td>\n",
       "      <td>DSL</td>\n",
       "      <td>Yes</td>\n",
       "      <td>No</td>\n",
       "      <td>Yes</td>\n",
       "      <td>Yes</td>\n",
       "      <td>No</td>\n",
       "      <td>No</td>\n",
       "      <td>One year</td>\n",
       "      <td>No</td>\n",
       "      <td>Bank transfer (automatic)</td>\n",
       "      <td>42.30</td>\n",
       "      <td>1840.75</td>\n",
       "      <td>No</td>\n",
       "    </tr>\n",
       "    <tr>\n",
       "      <th>4</th>\n",
       "      <td>Female</td>\n",
       "      <td>0</td>\n",
       "      <td>No</td>\n",
       "      <td>No</td>\n",
       "      <td>2</td>\n",
       "      <td>Yes</td>\n",
       "      <td>No</td>\n",
       "      <td>Fiber optic</td>\n",
       "      <td>No</td>\n",
       "      <td>No</td>\n",
       "      <td>No</td>\n",
       "      <td>No</td>\n",
       "      <td>No</td>\n",
       "      <td>No</td>\n",
       "      <td>Month-to-month</td>\n",
       "      <td>Yes</td>\n",
       "      <td>Electronic check</td>\n",
       "      <td>70.70</td>\n",
       "      <td>151.65</td>\n",
       "      <td>Yes</td>\n",
       "    </tr>\n",
       "  </tbody>\n",
       "</table>\n",
       "</div>"
      ],
      "text/plain": [
       "   gender  SeniorCitizen Partner Dependents  tenure PhoneService  \\\n",
       "0  Female              0     Yes         No       1           No   \n",
       "1    Male              0      No         No      34          Yes   \n",
       "2    Male              0      No         No       2          Yes   \n",
       "3    Male              0      No         No      45           No   \n",
       "4  Female              0      No         No       2          Yes   \n",
       "\n",
       "      MultipleLines InternetService OnlineSecurity OnlineBackup  \\\n",
       "0  No phone service             DSL             No          Yes   \n",
       "1                No             DSL            Yes           No   \n",
       "2                No             DSL            Yes          Yes   \n",
       "3  No phone service             DSL            Yes           No   \n",
       "4                No     Fiber optic             No           No   \n",
       "\n",
       "  DeviceProtection TechSupport StreamingTV StreamingMovies        Contract  \\\n",
       "0               No          No          No              No  Month-to-month   \n",
       "1              Yes          No          No              No        One year   \n",
       "2               No          No          No              No  Month-to-month   \n",
       "3              Yes         Yes          No              No        One year   \n",
       "4               No          No          No              No  Month-to-month   \n",
       "\n",
       "  PaperlessBilling              PaymentMethod  MonthlyCharges TotalCharges  \\\n",
       "0              Yes           Electronic check           29.85        29.85   \n",
       "1               No               Mailed check           56.95       1889.5   \n",
       "2              Yes               Mailed check           53.85       108.15   \n",
       "3               No  Bank transfer (automatic)           42.30      1840.75   \n",
       "4              Yes           Electronic check           70.70       151.65   \n",
       "\n",
       "  Churn  \n",
       "0    No  \n",
       "1    No  \n",
       "2   Yes  \n",
       "3    No  \n",
       "4   Yes  "
      ]
     },
     "execution_count": 18,
     "metadata": {},
     "output_type": "execute_result"
    }
   ],
   "source": [
    "df.head()"
   ]
  },
  {
   "cell_type": "code",
   "execution_count": 19,
   "id": "1f57fb28",
   "metadata": {},
   "outputs": [
    {
     "data": {
      "text/html": [
       "<div>\n",
       "<style scoped>\n",
       "    .dataframe tbody tr th:only-of-type {\n",
       "        vertical-align: middle;\n",
       "    }\n",
       "\n",
       "    .dataframe tbody tr th {\n",
       "        vertical-align: top;\n",
       "    }\n",
       "\n",
       "    .dataframe thead th {\n",
       "        text-align: right;\n",
       "    }\n",
       "</style>\n",
       "<table border=\"1\" class=\"dataframe\">\n",
       "  <thead>\n",
       "    <tr style=\"text-align: right;\">\n",
       "      <th></th>\n",
       "      <th>gender</th>\n",
       "      <th>SeniorCitizen</th>\n",
       "      <th>Partner</th>\n",
       "      <th>Dependents</th>\n",
       "      <th>tenure</th>\n",
       "      <th>PhoneService</th>\n",
       "      <th>MultipleLines</th>\n",
       "      <th>InternetService</th>\n",
       "      <th>OnlineSecurity</th>\n",
       "      <th>OnlineBackup</th>\n",
       "      <th>DeviceProtection</th>\n",
       "      <th>TechSupport</th>\n",
       "      <th>StreamingTV</th>\n",
       "      <th>StreamingMovies</th>\n",
       "      <th>Contract</th>\n",
       "      <th>PaperlessBilling</th>\n",
       "      <th>PaymentMethod</th>\n",
       "      <th>MonthlyCharges</th>\n",
       "      <th>TotalCharges</th>\n",
       "      <th>Churn</th>\n",
       "    </tr>\n",
       "  </thead>\n",
       "  <tbody>\n",
       "    <tr>\n",
       "      <th>7038</th>\n",
       "      <td>Male</td>\n",
       "      <td>0</td>\n",
       "      <td>Yes</td>\n",
       "      <td>Yes</td>\n",
       "      <td>24</td>\n",
       "      <td>Yes</td>\n",
       "      <td>Yes</td>\n",
       "      <td>DSL</td>\n",
       "      <td>Yes</td>\n",
       "      <td>No</td>\n",
       "      <td>Yes</td>\n",
       "      <td>Yes</td>\n",
       "      <td>Yes</td>\n",
       "      <td>Yes</td>\n",
       "      <td>One year</td>\n",
       "      <td>Yes</td>\n",
       "      <td>Mailed check</td>\n",
       "      <td>84.80</td>\n",
       "      <td>1990.5</td>\n",
       "      <td>No</td>\n",
       "    </tr>\n",
       "    <tr>\n",
       "      <th>7039</th>\n",
       "      <td>Female</td>\n",
       "      <td>0</td>\n",
       "      <td>Yes</td>\n",
       "      <td>Yes</td>\n",
       "      <td>72</td>\n",
       "      <td>Yes</td>\n",
       "      <td>Yes</td>\n",
       "      <td>Fiber optic</td>\n",
       "      <td>No</td>\n",
       "      <td>Yes</td>\n",
       "      <td>Yes</td>\n",
       "      <td>No</td>\n",
       "      <td>Yes</td>\n",
       "      <td>Yes</td>\n",
       "      <td>One year</td>\n",
       "      <td>Yes</td>\n",
       "      <td>Credit card (automatic)</td>\n",
       "      <td>103.20</td>\n",
       "      <td>7362.9</td>\n",
       "      <td>No</td>\n",
       "    </tr>\n",
       "    <tr>\n",
       "      <th>7040</th>\n",
       "      <td>Female</td>\n",
       "      <td>0</td>\n",
       "      <td>Yes</td>\n",
       "      <td>Yes</td>\n",
       "      <td>11</td>\n",
       "      <td>No</td>\n",
       "      <td>No phone service</td>\n",
       "      <td>DSL</td>\n",
       "      <td>Yes</td>\n",
       "      <td>No</td>\n",
       "      <td>No</td>\n",
       "      <td>No</td>\n",
       "      <td>No</td>\n",
       "      <td>No</td>\n",
       "      <td>Month-to-month</td>\n",
       "      <td>Yes</td>\n",
       "      <td>Electronic check</td>\n",
       "      <td>29.60</td>\n",
       "      <td>346.45</td>\n",
       "      <td>No</td>\n",
       "    </tr>\n",
       "    <tr>\n",
       "      <th>7041</th>\n",
       "      <td>Male</td>\n",
       "      <td>1</td>\n",
       "      <td>Yes</td>\n",
       "      <td>No</td>\n",
       "      <td>4</td>\n",
       "      <td>Yes</td>\n",
       "      <td>Yes</td>\n",
       "      <td>Fiber optic</td>\n",
       "      <td>No</td>\n",
       "      <td>No</td>\n",
       "      <td>No</td>\n",
       "      <td>No</td>\n",
       "      <td>No</td>\n",
       "      <td>No</td>\n",
       "      <td>Month-to-month</td>\n",
       "      <td>Yes</td>\n",
       "      <td>Mailed check</td>\n",
       "      <td>74.40</td>\n",
       "      <td>306.6</td>\n",
       "      <td>Yes</td>\n",
       "    </tr>\n",
       "    <tr>\n",
       "      <th>7042</th>\n",
       "      <td>Male</td>\n",
       "      <td>0</td>\n",
       "      <td>No</td>\n",
       "      <td>No</td>\n",
       "      <td>66</td>\n",
       "      <td>Yes</td>\n",
       "      <td>No</td>\n",
       "      <td>Fiber optic</td>\n",
       "      <td>Yes</td>\n",
       "      <td>No</td>\n",
       "      <td>Yes</td>\n",
       "      <td>Yes</td>\n",
       "      <td>Yes</td>\n",
       "      <td>Yes</td>\n",
       "      <td>Two year</td>\n",
       "      <td>Yes</td>\n",
       "      <td>Bank transfer (automatic)</td>\n",
       "      <td>105.65</td>\n",
       "      <td>6844.5</td>\n",
       "      <td>No</td>\n",
       "    </tr>\n",
       "  </tbody>\n",
       "</table>\n",
       "</div>"
      ],
      "text/plain": [
       "      gender  SeniorCitizen Partner Dependents  tenure PhoneService  \\\n",
       "7038    Male              0     Yes        Yes      24          Yes   \n",
       "7039  Female              0     Yes        Yes      72          Yes   \n",
       "7040  Female              0     Yes        Yes      11           No   \n",
       "7041    Male              1     Yes         No       4          Yes   \n",
       "7042    Male              0      No         No      66          Yes   \n",
       "\n",
       "         MultipleLines InternetService OnlineSecurity OnlineBackup  \\\n",
       "7038               Yes             DSL            Yes           No   \n",
       "7039               Yes     Fiber optic             No          Yes   \n",
       "7040  No phone service             DSL            Yes           No   \n",
       "7041               Yes     Fiber optic             No           No   \n",
       "7042                No     Fiber optic            Yes           No   \n",
       "\n",
       "     DeviceProtection TechSupport StreamingTV StreamingMovies        Contract  \\\n",
       "7038              Yes         Yes         Yes             Yes        One year   \n",
       "7039              Yes          No         Yes             Yes        One year   \n",
       "7040               No          No          No              No  Month-to-month   \n",
       "7041               No          No          No              No  Month-to-month   \n",
       "7042              Yes         Yes         Yes             Yes        Two year   \n",
       "\n",
       "     PaperlessBilling              PaymentMethod  MonthlyCharges TotalCharges  \\\n",
       "7038              Yes               Mailed check           84.80       1990.5   \n",
       "7039              Yes    Credit card (automatic)          103.20       7362.9   \n",
       "7040              Yes           Electronic check           29.60       346.45   \n",
       "7041              Yes               Mailed check           74.40        306.6   \n",
       "7042              Yes  Bank transfer (automatic)          105.65       6844.5   \n",
       "\n",
       "     Churn  \n",
       "7038    No  \n",
       "7039    No  \n",
       "7040    No  \n",
       "7041   Yes  \n",
       "7042    No  "
      ]
     },
     "execution_count": 19,
     "metadata": {},
     "output_type": "execute_result"
    }
   ],
   "source": [
    "df.tail()"
   ]
  },
  {
   "cell_type": "markdown",
   "id": "55e9eb8c",
   "metadata": {},
   "source": [
    "### Number of Variables"
   ]
  },
  {
   "cell_type": "code",
   "execution_count": 21,
   "id": "b101cef0",
   "metadata": {},
   "outputs": [
    {
     "name": "stdout",
     "output_type": "stream",
     "text": [
      "The dataset contains 7043 observations (rows) and 20 features (columns).\n"
     ]
    }
   ],
   "source": [
    "# Shape of the dataset\n",
    "print(f\"The dataset contains {df.shape[0]} observations (rows) and {df.shape[1]} features (columns).\")"
   ]
  },
  {
   "cell_type": "code",
   "execution_count": 22,
   "id": "22927d61",
   "metadata": {},
   "outputs": [
    {
     "data": {
      "text/html": [
       "<div>\n",
       "<style scoped>\n",
       "    .dataframe tbody tr th:only-of-type {\n",
       "        vertical-align: middle;\n",
       "    }\n",
       "\n",
       "    .dataframe tbody tr th {\n",
       "        vertical-align: top;\n",
       "    }\n",
       "\n",
       "    .dataframe thead th {\n",
       "        text-align: right;\n",
       "    }\n",
       "</style>\n",
       "<table border=\"1\" class=\"dataframe\">\n",
       "  <thead>\n",
       "    <tr style=\"text-align: right;\">\n",
       "      <th></th>\n",
       "      <th>gender</th>\n",
       "      <th>SeniorCitizen</th>\n",
       "      <th>Partner</th>\n",
       "      <th>Dependents</th>\n",
       "      <th>tenure</th>\n",
       "      <th>PhoneService</th>\n",
       "      <th>MultipleLines</th>\n",
       "      <th>InternetService</th>\n",
       "      <th>OnlineSecurity</th>\n",
       "      <th>OnlineBackup</th>\n",
       "      <th>DeviceProtection</th>\n",
       "      <th>TechSupport</th>\n",
       "      <th>StreamingTV</th>\n",
       "      <th>StreamingMovies</th>\n",
       "      <th>Contract</th>\n",
       "      <th>PaperlessBilling</th>\n",
       "      <th>PaymentMethod</th>\n",
       "      <th>MonthlyCharges</th>\n",
       "      <th>TotalCharges</th>\n",
       "      <th>Churn</th>\n",
       "    </tr>\n",
       "  </thead>\n",
       "  <tbody>\n",
       "    <tr>\n",
       "      <th>185</th>\n",
       "      <td>Female</td>\n",
       "      <td>0</td>\n",
       "      <td>Yes</td>\n",
       "      <td>No</td>\n",
       "      <td>1</td>\n",
       "      <td>No</td>\n",
       "      <td>No phone service</td>\n",
       "      <td>DSL</td>\n",
       "      <td>No</td>\n",
       "      <td>No</td>\n",
       "      <td>No</td>\n",
       "      <td>No</td>\n",
       "      <td>No</td>\n",
       "      <td>No</td>\n",
       "      <td>Month-to-month</td>\n",
       "      <td>Yes</td>\n",
       "      <td>Electronic check</td>\n",
       "      <td>24.80</td>\n",
       "      <td>24.8</td>\n",
       "      <td>Yes</td>\n",
       "    </tr>\n",
       "    <tr>\n",
       "      <th>2715</th>\n",
       "      <td>Male</td>\n",
       "      <td>0</td>\n",
       "      <td>No</td>\n",
       "      <td>No</td>\n",
       "      <td>41</td>\n",
       "      <td>Yes</td>\n",
       "      <td>Yes</td>\n",
       "      <td>No</td>\n",
       "      <td>No internet service</td>\n",
       "      <td>No internet service</td>\n",
       "      <td>No internet service</td>\n",
       "      <td>No internet service</td>\n",
       "      <td>No internet service</td>\n",
       "      <td>No internet service</td>\n",
       "      <td>Month-to-month</td>\n",
       "      <td>Yes</td>\n",
       "      <td>Bank transfer (automatic)</td>\n",
       "      <td>25.25</td>\n",
       "      <td>996.45</td>\n",
       "      <td>No</td>\n",
       "    </tr>\n",
       "    <tr>\n",
       "      <th>3825</th>\n",
       "      <td>Female</td>\n",
       "      <td>0</td>\n",
       "      <td>Yes</td>\n",
       "      <td>Yes</td>\n",
       "      <td>52</td>\n",
       "      <td>Yes</td>\n",
       "      <td>No</td>\n",
       "      <td>No</td>\n",
       "      <td>No internet service</td>\n",
       "      <td>No internet service</td>\n",
       "      <td>No internet service</td>\n",
       "      <td>No internet service</td>\n",
       "      <td>No internet service</td>\n",
       "      <td>No internet service</td>\n",
       "      <td>Two year</td>\n",
       "      <td>No</td>\n",
       "      <td>Mailed check</td>\n",
       "      <td>19.35</td>\n",
       "      <td>1031.7</td>\n",
       "      <td>No</td>\n",
       "    </tr>\n",
       "    <tr>\n",
       "      <th>1807</th>\n",
       "      <td>Female</td>\n",
       "      <td>0</td>\n",
       "      <td>No</td>\n",
       "      <td>No</td>\n",
       "      <td>1</td>\n",
       "      <td>Yes</td>\n",
       "      <td>No</td>\n",
       "      <td>Fiber optic</td>\n",
       "      <td>No</td>\n",
       "      <td>No</td>\n",
       "      <td>Yes</td>\n",
       "      <td>No</td>\n",
       "      <td>No</td>\n",
       "      <td>No</td>\n",
       "      <td>Month-to-month</td>\n",
       "      <td>No</td>\n",
       "      <td>Electronic check</td>\n",
       "      <td>76.35</td>\n",
       "      <td>76.35</td>\n",
       "      <td>Yes</td>\n",
       "    </tr>\n",
       "    <tr>\n",
       "      <th>132</th>\n",
       "      <td>Male</td>\n",
       "      <td>0</td>\n",
       "      <td>No</td>\n",
       "      <td>No</td>\n",
       "      <td>67</td>\n",
       "      <td>Yes</td>\n",
       "      <td>No</td>\n",
       "      <td>DSL</td>\n",
       "      <td>No</td>\n",
       "      <td>No</td>\n",
       "      <td>No</td>\n",
       "      <td>Yes</td>\n",
       "      <td>No</td>\n",
       "      <td>No</td>\n",
       "      <td>Two year</td>\n",
       "      <td>No</td>\n",
       "      <td>Bank transfer (automatic)</td>\n",
       "      <td>50.55</td>\n",
       "      <td>3260.1</td>\n",
       "      <td>No</td>\n",
       "    </tr>\n",
       "    <tr>\n",
       "      <th>1263</th>\n",
       "      <td>Female</td>\n",
       "      <td>1</td>\n",
       "      <td>Yes</td>\n",
       "      <td>No</td>\n",
       "      <td>68</td>\n",
       "      <td>Yes</td>\n",
       "      <td>Yes</td>\n",
       "      <td>Fiber optic</td>\n",
       "      <td>No</td>\n",
       "      <td>Yes</td>\n",
       "      <td>No</td>\n",
       "      <td>No</td>\n",
       "      <td>No</td>\n",
       "      <td>Yes</td>\n",
       "      <td>Month-to-month</td>\n",
       "      <td>Yes</td>\n",
       "      <td>Bank transfer (automatic)</td>\n",
       "      <td>89.60</td>\n",
       "      <td>6127.6</td>\n",
       "      <td>Yes</td>\n",
       "    </tr>\n",
       "    <tr>\n",
       "      <th>3732</th>\n",
       "      <td>Female</td>\n",
       "      <td>0</td>\n",
       "      <td>Yes</td>\n",
       "      <td>Yes</td>\n",
       "      <td>23</td>\n",
       "      <td>Yes</td>\n",
       "      <td>Yes</td>\n",
       "      <td>DSL</td>\n",
       "      <td>Yes</td>\n",
       "      <td>No</td>\n",
       "      <td>Yes</td>\n",
       "      <td>Yes</td>\n",
       "      <td>Yes</td>\n",
       "      <td>No</td>\n",
       "      <td>Two year</td>\n",
       "      <td>Yes</td>\n",
       "      <td>Bank transfer (automatic)</td>\n",
       "      <td>77.15</td>\n",
       "      <td>1759.4</td>\n",
       "      <td>No</td>\n",
       "    </tr>\n",
       "    <tr>\n",
       "      <th>1672</th>\n",
       "      <td>Male</td>\n",
       "      <td>0</td>\n",
       "      <td>Yes</td>\n",
       "      <td>Yes</td>\n",
       "      <td>72</td>\n",
       "      <td>Yes</td>\n",
       "      <td>Yes</td>\n",
       "      <td>DSL</td>\n",
       "      <td>Yes</td>\n",
       "      <td>Yes</td>\n",
       "      <td>Yes</td>\n",
       "      <td>Yes</td>\n",
       "      <td>No</td>\n",
       "      <td>No</td>\n",
       "      <td>Two year</td>\n",
       "      <td>No</td>\n",
       "      <td>Credit card (automatic)</td>\n",
       "      <td>72.10</td>\n",
       "      <td>5016.65</td>\n",
       "      <td>No</td>\n",
       "    </tr>\n",
       "    <tr>\n",
       "      <th>811</th>\n",
       "      <td>Male</td>\n",
       "      <td>0</td>\n",
       "      <td>No</td>\n",
       "      <td>No</td>\n",
       "      <td>70</td>\n",
       "      <td>Yes</td>\n",
       "      <td>Yes</td>\n",
       "      <td>Fiber optic</td>\n",
       "      <td>Yes</td>\n",
       "      <td>No</td>\n",
       "      <td>No</td>\n",
       "      <td>Yes</td>\n",
       "      <td>Yes</td>\n",
       "      <td>Yes</td>\n",
       "      <td>Two year</td>\n",
       "      <td>Yes</td>\n",
       "      <td>Credit card (automatic)</td>\n",
       "      <td>104.00</td>\n",
       "      <td>7250.15</td>\n",
       "      <td>Yes</td>\n",
       "    </tr>\n",
       "    <tr>\n",
       "      <th>2526</th>\n",
       "      <td>Male</td>\n",
       "      <td>0</td>\n",
       "      <td>No</td>\n",
       "      <td>No</td>\n",
       "      <td>1</td>\n",
       "      <td>Yes</td>\n",
       "      <td>No</td>\n",
       "      <td>No</td>\n",
       "      <td>No internet service</td>\n",
       "      <td>No internet service</td>\n",
       "      <td>No internet service</td>\n",
       "      <td>No internet service</td>\n",
       "      <td>No internet service</td>\n",
       "      <td>No internet service</td>\n",
       "      <td>Month-to-month</td>\n",
       "      <td>No</td>\n",
       "      <td>Mailed check</td>\n",
       "      <td>19.40</td>\n",
       "      <td>19.4</td>\n",
       "      <td>Yes</td>\n",
       "    </tr>\n",
       "  </tbody>\n",
       "</table>\n",
       "</div>"
      ],
      "text/plain": [
       "      gender  SeniorCitizen Partner Dependents  tenure PhoneService  \\\n",
       "185   Female              0     Yes         No       1           No   \n",
       "2715    Male              0      No         No      41          Yes   \n",
       "3825  Female              0     Yes        Yes      52          Yes   \n",
       "1807  Female              0      No         No       1          Yes   \n",
       "132     Male              0      No         No      67          Yes   \n",
       "1263  Female              1     Yes         No      68          Yes   \n",
       "3732  Female              0     Yes        Yes      23          Yes   \n",
       "1672    Male              0     Yes        Yes      72          Yes   \n",
       "811     Male              0      No         No      70          Yes   \n",
       "2526    Male              0      No         No       1          Yes   \n",
       "\n",
       "         MultipleLines InternetService       OnlineSecurity  \\\n",
       "185   No phone service             DSL                   No   \n",
       "2715               Yes              No  No internet service   \n",
       "3825                No              No  No internet service   \n",
       "1807                No     Fiber optic                   No   \n",
       "132                 No             DSL                   No   \n",
       "1263               Yes     Fiber optic                   No   \n",
       "3732               Yes             DSL                  Yes   \n",
       "1672               Yes             DSL                  Yes   \n",
       "811                Yes     Fiber optic                  Yes   \n",
       "2526                No              No  No internet service   \n",
       "\n",
       "             OnlineBackup     DeviceProtection          TechSupport  \\\n",
       "185                    No                   No                   No   \n",
       "2715  No internet service  No internet service  No internet service   \n",
       "3825  No internet service  No internet service  No internet service   \n",
       "1807                   No                  Yes                   No   \n",
       "132                    No                   No                  Yes   \n",
       "1263                  Yes                   No                   No   \n",
       "3732                   No                  Yes                  Yes   \n",
       "1672                  Yes                  Yes                  Yes   \n",
       "811                    No                   No                  Yes   \n",
       "2526  No internet service  No internet service  No internet service   \n",
       "\n",
       "              StreamingTV      StreamingMovies        Contract  \\\n",
       "185                    No                   No  Month-to-month   \n",
       "2715  No internet service  No internet service  Month-to-month   \n",
       "3825  No internet service  No internet service        Two year   \n",
       "1807                   No                   No  Month-to-month   \n",
       "132                    No                   No        Two year   \n",
       "1263                   No                  Yes  Month-to-month   \n",
       "3732                  Yes                   No        Two year   \n",
       "1672                   No                   No        Two year   \n",
       "811                   Yes                  Yes        Two year   \n",
       "2526  No internet service  No internet service  Month-to-month   \n",
       "\n",
       "     PaperlessBilling              PaymentMethod  MonthlyCharges TotalCharges  \\\n",
       "185               Yes           Electronic check           24.80         24.8   \n",
       "2715              Yes  Bank transfer (automatic)           25.25       996.45   \n",
       "3825               No               Mailed check           19.35       1031.7   \n",
       "1807               No           Electronic check           76.35        76.35   \n",
       "132                No  Bank transfer (automatic)           50.55       3260.1   \n",
       "1263              Yes  Bank transfer (automatic)           89.60       6127.6   \n",
       "3732              Yes  Bank transfer (automatic)           77.15       1759.4   \n",
       "1672               No    Credit card (automatic)           72.10      5016.65   \n",
       "811               Yes    Credit card (automatic)          104.00      7250.15   \n",
       "2526               No               Mailed check           19.40         19.4   \n",
       "\n",
       "     Churn  \n",
       "185    Yes  \n",
       "2715    No  \n",
       "3825    No  \n",
       "1807   Yes  \n",
       "132     No  \n",
       "1263   Yes  \n",
       "3732    No  \n",
       "1672    No  \n",
       "811    Yes  \n",
       "2526   Yes  "
      ]
     },
     "execution_count": 22,
     "metadata": {},
     "output_type": "execute_result"
    }
   ],
   "source": [
    "# Displaying 10 random rows\n",
    "df.sample(10, random_state=42)"
   ]
  },
  {
   "cell_type": "code",
   "execution_count": 23,
   "id": "ecf4545b",
   "metadata": {},
   "outputs": [
    {
     "name": "stdout",
     "output_type": "stream",
     "text": [
      "['gender', 'SeniorCitizen', 'Partner', 'Dependents', 'tenure', 'PhoneService', 'MultipleLines', 'InternetService', 'OnlineSecurity', 'OnlineBackup', 'DeviceProtection', 'TechSupport', 'StreamingTV', 'StreamingMovies', 'Contract', 'PaperlessBilling', 'PaymentMethod', 'MonthlyCharges', 'TotalCharges', 'Churn']\n"
     ]
    }
   ],
   "source": [
    "print(df.columns.tolist())"
   ]
  },
  {
   "cell_type": "markdown",
   "id": "87e25794",
   "metadata": {},
   "source": [
    "## Task 3.3: Handling missing values"
   ]
  },
  {
   "cell_type": "code",
   "execution_count": 25,
   "id": "8e166c0e",
   "metadata": {},
   "outputs": [
    {
     "name": "stdout",
     "output_type": "stream",
     "text": [
      "Missing values:\n",
      " gender              0\n",
      "SeniorCitizen       0\n",
      "Partner             0\n",
      "Dependents          0\n",
      "tenure              0\n",
      "PhoneService        0\n",
      "MultipleLines       0\n",
      "InternetService     0\n",
      "OnlineSecurity      0\n",
      "OnlineBackup        0\n",
      "DeviceProtection    0\n",
      "TechSupport         0\n",
      "StreamingTV         0\n",
      "StreamingMovies     0\n",
      "Contract            0\n",
      "PaperlessBilling    0\n",
      "PaymentMethod       0\n",
      "MonthlyCharges      0\n",
      "TotalCharges        0\n",
      "Churn               0\n",
      "dtype: int64\n"
     ]
    }
   ],
   "source": [
    "missing = df.isnull().sum()\n",
    "print(\"Missing values:\\n\", missing)"
   ]
  },
  {
   "cell_type": "code",
   "execution_count": 26,
   "id": "c651b868",
   "metadata": {},
   "outputs": [
    {
     "data": {
      "text/plain": [
       "Series([], dtype: int64)"
      ]
     },
     "execution_count": 26,
     "metadata": {},
     "output_type": "execute_result"
    }
   ],
   "source": [
    "missing[missing > 0]"
   ]
  },
  {
   "cell_type": "code",
   "execution_count": 27,
   "id": "459449bb",
   "metadata": {},
   "outputs": [
    {
     "name": "stdout",
     "output_type": "stream",
     "text": [
      "Series([], dtype: int64)\n"
     ]
    }
   ],
   "source": [
    "# Only show columns with NaNs\n",
    "missing_values = df.isna().sum()\n",
    "missing_values = missing_values[missing_values > 0] \n",
    "print(missing_values)"
   ]
  },
  {
   "cell_type": "markdown",
   "id": "ba06f498",
   "metadata": {},
   "source": [
    "No missing values were found in any of the features.\n",
    "\n",
    "The dataset is clean and ready for further preprocessing and analysis."
   ]
  },
  {
   "cell_type": "markdown",
   "id": "63d7bd86-2924-4201-b207-4adb750b1c44",
   "metadata": {},
   "source": [
    "### Evaluating data types"
   ]
  },
  {
   "cell_type": "code",
   "execution_count": 30,
   "id": "6354223d",
   "metadata": {},
   "outputs": [
    {
     "name": "stdout",
     "output_type": "stream",
     "text": [
      "gender               object\n",
      "SeniorCitizen         int64\n",
      "Partner              object\n",
      "Dependents           object\n",
      "tenure                int64\n",
      "PhoneService         object\n",
      "MultipleLines        object\n",
      "InternetService      object\n",
      "OnlineSecurity       object\n",
      "OnlineBackup         object\n",
      "DeviceProtection     object\n",
      "TechSupport          object\n",
      "StreamingTV          object\n",
      "StreamingMovies      object\n",
      "Contract             object\n",
      "PaperlessBilling     object\n",
      "PaymentMethod        object\n",
      "MonthlyCharges      float64\n",
      "TotalCharges         object\n",
      "Churn                object\n",
      "dtype: object\n"
     ]
    }
   ],
   "source": [
    "print(df.dtypes)"
   ]
  },
  {
   "cell_type": "markdown",
   "id": "9a22fff8",
   "metadata": {},
   "source": [
    "## Task 3.4: Sampling the Dataset"
   ]
  },
  {
   "cell_type": "code",
   "execution_count": 32,
   "id": "85e57ed5",
   "metadata": {},
   "outputs": [
    {
     "name": "stdout",
     "output_type": "stream",
     "text": [
      "(5000, 20)\n"
     ]
    }
   ],
   "source": [
    "df_subset = df.sample(n=5000, random_state=42)\n",
    "\n",
    "# Checking size of the sampling dataset\n",
    "print(df_subset.shape)"
   ]
  },
  {
   "cell_type": "markdown",
   "id": "b9ef31cc",
   "metadata": {},
   "source": [
    "## Identifying and handling blank 'TotalCharges' values"
   ]
  },
  {
   "cell_type": "markdown",
   "id": "7ad47fe8",
   "metadata": {},
   "source": [
    "We identified and addressed formatting issues in the TotalCharges column. "
   ]
  },
  {
   "cell_type": "code",
   "execution_count": 35,
   "id": "38a31997",
   "metadata": {},
   "outputs": [],
   "source": [
    "# Converting 'TotalCharges' to string\n",
    "df_subset['TotalCharges'] = df_subset['TotalCharges'].astype(str)\n"
   ]
  },
  {
   "cell_type": "markdown",
   "id": "d9a825fb",
   "metadata": {},
   "source": [
    "While performing descriptive statistics, this identified rows where TotalCharges contained only whitespace."
   ]
  },
  {
   "cell_type": "code",
   "execution_count": 37,
   "id": "2cd8d5e8",
   "metadata": {},
   "outputs": [
    {
     "name": "stdout",
     "output_type": "stream",
     "text": [
      "Blank/space-only rows: 6\n"
     ]
    }
   ],
   "source": [
    "# Count space-only rows\n",
    "blank_count = (df_subset['TotalCharges'].str.strip() == '').sum()\n",
    "print(f\"Blank/space-only rows: {blank_count}\")"
   ]
  },
  {
   "cell_type": "markdown",
   "id": "7e6c8fd3",
   "metadata": {},
   "source": [
    "We removed whitespaces and replaced empty strings with NaN to mark them as missing values."
   ]
  },
  {
   "cell_type": "code",
   "execution_count": 39,
   "id": "675dc561",
   "metadata": {},
   "outputs": [],
   "source": [
    "# Replacing Blanks with NaN\n",
    "df_subset['TotalCharges'] = df_subset['TotalCharges'].str.strip().replace('', np.nan)"
   ]
  },
  {
   "cell_type": "markdown",
   "id": "720cf112",
   "metadata": {},
   "source": [
    "This successfully converted the cleaned column into a numeric data type for analysis."
   ]
  },
  {
   "cell_type": "code",
   "execution_count": 41,
   "id": "ca8f28a4",
   "metadata": {},
   "outputs": [],
   "source": [
    "df_subset['TotalCharges'] = pd.to_numeric(df_subset['TotalCharges'], errors='raise')"
   ]
  },
  {
   "cell_type": "code",
   "execution_count": 42,
   "id": "89f20567",
   "metadata": {},
   "outputs": [
    {
     "name": "stdout",
     "output_type": "stream",
     "text": [
      "count    4994.000000\n",
      "mean     2263.602052\n",
      "std      2258.899342\n",
      "min        18.800000\n",
      "25%       399.300000\n",
      "50%      1376.650000\n",
      "75%      3764.287500\n",
      "max      8684.800000\n",
      "Name: TotalCharges, dtype: float64\n"
     ]
    }
   ],
   "source": [
    "print(df_subset['TotalCharges'].describe())"
   ]
  },
  {
   "cell_type": "markdown",
   "id": "10a22a11",
   "metadata": {},
   "source": [
    " Removed rows where TotalCharges was NaN as the number of affected rows were very small"
   ]
  },
  {
   "cell_type": "code",
   "execution_count": 44,
   "id": "1bcaa43c",
   "metadata": {},
   "outputs": [],
   "source": [
    "df_subset = df_subset.dropna(subset=['TotalCharges'])"
   ]
  },
  {
   "cell_type": "markdown",
   "id": "7d63d7c3",
   "metadata": {},
   "source": [
    "After removing these rows, we retained 4,994 clean records with valid TotalCharges"
   ]
  },
  {
   "cell_type": "markdown",
   "id": "936eee2a",
   "metadata": {},
   "source": [
    "## Task 3.5: Descriptive statistics using numpy"
   ]
  },
  {
   "cell_type": "code",
   "execution_count": 47,
   "id": "27ef401f",
   "metadata": {},
   "outputs": [
    {
     "name": "stdout",
     "output_type": "stream",
     "text": [
      "Descriptive statistics:\n",
      "\n",
      "SeniorCitizen:\n",
      "  Count: 4994\n",
      "  Mean: 0.16\n",
      "  Std: 0.37\n",
      "  Min: 0.00\n",
      "  25%: 0.00\n",
      "  50% (Median): 0.00\n",
      "  75%: 0.00\n",
      "  Max: 1.00\n",
      "\n",
      "tenure:\n",
      "  Count: 4994\n",
      "  Mean: 32.18\n",
      "  Std: 24.56\n",
      "  Min: 1.00\n",
      "  25%: 9.00\n",
      "  50% (Median): 29.00\n",
      "  75%: 55.00\n",
      "  Max: 72.00\n",
      "\n",
      "MonthlyCharges:\n",
      "  Count: 4994\n",
      "  Mean: 64.83\n",
      "  Std: 29.96\n",
      "  Min: 18.70\n",
      "  25%: 35.65\n",
      "  50% (Median): 70.40\n",
      "  75%: 89.85\n",
      "  Max: 118.75\n",
      "\n",
      "TotalCharges:\n",
      "  Count: 4994\n",
      "  Mean: 2263.60\n",
      "  Std: 2258.90\n",
      "  Min: 18.80\n",
      "  25%: 399.30\n",
      "  50% (Median): 1376.65\n",
      "  75%: 3764.29\n",
      "  Max: 8684.80\n",
      "\n"
     ]
    }
   ],
   "source": [
    "# Selecting only numeric columns\n",
    "numeric_df = df_subset.select_dtypes(include=['number'])\n",
    "\n",
    "numeric_data = numeric_df.values\n",
    "columns = numeric_df.columns\n",
    "\n",
    "# Calculating statistics\n",
    "mean_vals = np.nanmean(numeric_data, axis=0)  \n",
    "std_vals = np.nanstd(numeric_data, axis=0, ddof=1)  \n",
    "min_vals = np.nanmin(numeric_data, axis=0)  \n",
    "q25_vals = np.nanpercentile(numeric_data, 25, axis=0)  \n",
    "median_vals = np.nanmedian(numeric_data, axis=0)  \n",
    "q75_vals = np.nanpercentile(numeric_data, 75, axis=0)  \n",
    "max_vals = np.nanmax(numeric_data, axis=0)  \n",
    "\n",
    "print(\"Descriptive statistics:\\n\")\n",
    "for i, col in enumerate(columns):\n",
    "    print(f\"{col}:\")\n",
    "    print(f\"  Count: {numeric_data.shape[0]}\")\n",
    "    print(f\"  Mean: {mean_vals[i]:.2f}\")\n",
    "    print(f\"  Std: {std_vals[i]:.2f}\")\n",
    "    print(f\"  Min: {min_vals[i]:.2f}\")\n",
    "    print(f\"  25%: {q25_vals[i]:.2f}\")\n",
    "    print(f\"  50% (Median): {median_vals[i]:.2f}\")\n",
    "    print(f\"  75%: {q75_vals[i]:.2f}\")\n",
    "    print(f\"  Max: {max_vals[i]:.2f}\\n\")"
   ]
  },
  {
   "cell_type": "markdown",
   "id": "0d1a9e3f",
   "metadata": {},
   "source": [
    "SeniorCitizen: indicates that most customers are not senior citizens, as 75% of the values are 0.\n",
    "\n",
    "tenure: The customer base spans a wide range of tenure, with a median of about 29 months.\n",
    "\n",
    "Monthly charges: vary significantly, with most customers paying between 35.65  and  89.85.\n",
    "\n",
    "TotalCharges: there is a wide spread in the total charges, which aligns with the variation in tenure and monthly charges."
   ]
  },
  {
   "cell_type": "markdown",
   "id": "b2b9f6c8",
   "metadata": {},
   "source": [
    "## Task 3.6: Outliers"
   ]
  },
  {
   "cell_type": "code",
   "execution_count": 50,
   "id": "38661a46",
   "metadata": {},
   "outputs": [],
   "source": [
    "# Select only numeric columns (excluding SeniorCitizen)\n",
    "numeric_cols = ['tenure', 'MonthlyCharges', 'TotalCharges']  \n",
    "numeric_df = df_subset[numeric_cols]"
   ]
  },
  {
   "cell_type": "markdown",
   "id": "3c3b75a1",
   "metadata": {},
   "source": [
    "### Identification of outliers using IQR method"
   ]
  },
  {
   "cell_type": "code",
   "execution_count": 52,
   "id": "4afb805a",
   "metadata": {},
   "outputs": [
    {
     "name": "stdout",
     "output_type": "stream",
     "text": [
      "\n",
      "Number of outliers in each numeric column:\n",
      "\n",
      "tenure            0\n",
      "MonthlyCharges    0\n",
      "TotalCharges      0\n",
      "dtype: int64\n"
     ]
    }
   ],
   "source": [
    "Q1 = numeric_df.quantile(0.25)\n",
    "Q3 = numeric_df.quantile(0.75)\n",
    "IQR = Q3 - Q1\n",
    "\n",
    "outliers = (numeric_df < (Q1 - 1.5 * IQR)) | (numeric_df > (Q3 + 1.5 * IQR))\n",
    "outlier_counts = outliers.sum()\n",
    "\n",
    "print(\"\\nNumber of outliers in each numeric column:\\n\")\n",
    "print(outlier_counts)\n"
   ]
  },
  {
   "cell_type": "markdown",
   "id": "11b57693",
   "metadata": {},
   "source": [
    "No outliers were detected in tenure or MonthlyCharges using the IQR method, as all values fell within the expected range. The binary feature SeniorCitizen was excluded from outlier analysis."
   ]
  },
  {
   "cell_type": "markdown",
   "id": "30560f6c",
   "metadata": {},
   "source": [
    "## Task 3.7: Handling Duplicate values"
   ]
  },
  {
   "cell_type": "code",
   "execution_count": 55,
   "id": "b50ceee5",
   "metadata": {},
   "outputs": [],
   "source": [
    "df_subset.drop_duplicates(inplace=True)"
   ]
  },
  {
   "cell_type": "code",
   "execution_count": 56,
   "id": "5ad6c824",
   "metadata": {},
   "outputs": [
    {
     "name": "stdout",
     "output_type": "stream",
     "text": [
      "4981\n"
     ]
    }
   ],
   "source": [
    "total_rows = len(df_subset)\n",
    "print(total_rows)"
   ]
  },
  {
   "cell_type": "code",
   "execution_count": 57,
   "id": "f600624c",
   "metadata": {},
   "outputs": [
    {
     "name": "stdout",
     "output_type": "stream",
     "text": [
      "gender               object\n",
      "SeniorCitizen         int64\n",
      "Partner              object\n",
      "Dependents           object\n",
      "tenure                int64\n",
      "PhoneService         object\n",
      "MultipleLines        object\n",
      "InternetService      object\n",
      "OnlineSecurity       object\n",
      "OnlineBackup         object\n",
      "DeviceProtection     object\n",
      "TechSupport          object\n",
      "StreamingTV          object\n",
      "StreamingMovies      object\n",
      "Contract             object\n",
      "PaperlessBilling     object\n",
      "PaymentMethod        object\n",
      "MonthlyCharges      float64\n",
      "TotalCharges        float64\n",
      "Churn                object\n",
      "dtype: object\n"
     ]
    }
   ],
   "source": [
    "print(df_subset.dtypes)"
   ]
  },
  {
   "cell_type": "markdown",
   "id": "289023ba",
   "metadata": {},
   "source": [
    "### Verifying Duplicate Removal"
   ]
  },
  {
   "cell_type": "code",
   "execution_count": 59,
   "id": "cddf0cd6",
   "metadata": {},
   "outputs": [
    {
     "data": {
      "text/plain": [
       "0"
      ]
     },
     "execution_count": 59,
     "metadata": {},
     "output_type": "execute_result"
    }
   ],
   "source": [
    "df_subset.duplicated().sum()"
   ]
  },
  {
   "cell_type": "code",
   "execution_count": 60,
   "id": "cd1d78c4",
   "metadata": {},
   "outputs": [],
   "source": [
    "df_subset.drop_duplicates(inplace=True)"
   ]
  },
  {
   "cell_type": "markdown",
   "id": "3dda0f41",
   "metadata": {},
   "source": [
    "## Task 3.8: Aggregations "
   ]
  },
  {
   "cell_type": "markdown",
   "id": "bc0ab4b7-61b4-4a96-aa02-32fc424150ff",
   "metadata": {},
   "source": [
    "To look for trends and comparative analysis of variables"
   ]
  },
  {
   "cell_type": "code",
   "execution_count": 62,
   "id": "7c26e919",
   "metadata": {},
   "outputs": [
    {
     "name": "stdout",
     "output_type": "stream",
     "text": [
      "       MonthlyCharges  TotalCharges     tenure\n",
      "Churn                                         \n",
      "No          61.363619   2551.033779  37.616910\n",
      "Yes         74.510333   1512.048259  17.874074\n"
     ]
    }
   ],
   "source": [
    "agg_results = df_subset.groupby('Churn', observed=True).agg({\n",
    "    'MonthlyCharges': 'mean',\n",
    "    'TotalCharges': 'mean',\n",
    "    'tenure': 'mean',\n",
    "})\n",
    "\n",
    "print(agg_results)"
   ]
  },
  {
   "cell_type": "markdown",
   "id": "1d6f3edd",
   "metadata": {},
   "source": [
    "Higher monthly charges may be a major churn trigger.\n",
    "\n",
    "Long term customers are less likely to churn as they are more invested, possibly locked in.\n",
    "\n",
    "Lower lifetime value of TotalCharges correlates with churn, as people are churning before they pay off acquisition costs."
   ]
  },
  {
   "cell_type": "code",
   "execution_count": 64,
   "id": "e14e6e7e",
   "metadata": {},
   "outputs": [
    {
     "name": "stdout",
     "output_type": "stream",
     "text": [
      "Churn             No   Yes\n",
      "Contract                  \n",
      "Month-to-month  1562  1205\n",
      "One year         916   111\n",
      "Two year        1153    34\n"
     ]
    }
   ],
   "source": [
    "contract_churn = pd.crosstab(df_subset['Contract'], df_subset['Churn'])\n",
    "print(contract_churn)"
   ]
  },
  {
   "cell_type": "markdown",
   "id": "4d206e50",
   "metadata": {},
   "source": [
    "Month-to-month contracts have the highest churn rate.\n",
    "\n",
    "One-year and two-year contracts have very low churn rates.\n",
    "\n",
    "Contract length is a strong retention factor."
   ]
  },
  {
   "cell_type": "code",
   "execution_count": 66,
   "id": "4e570315",
   "metadata": {},
   "outputs": [
    {
     "name": "stdout",
     "output_type": "stream",
     "text": [
      "InternetService\n",
      "DSL            0.194412\n",
      "Fiber optic    0.426697\n",
      "No             0.069326\n",
      "Name: Churn, dtype: float64\n"
     ]
    }
   ],
   "source": [
    "churn_by_internet = df_subset.groupby('InternetService', observed=True)['Churn'].apply(lambda x: np.mean(x == 'Yes'))\n",
    "print(churn_by_internet)"
   ]
  },
  {
   "cell_type": "markdown",
   "id": "8866c8ab",
   "metadata": {},
   "source": [
    "Fiber optic users are the more at risk.\n",
    "\n",
    "DSL users are relatively stable.\n",
    "\n",
    "Those with no internet likely represent a less engaged group."
   ]
  },
  {
   "cell_type": "code",
   "execution_count": 68,
   "id": "4523446f",
   "metadata": {},
   "outputs": [
    {
     "name": "stdout",
     "output_type": "stream",
     "text": [
      "SeniorCitizen\n",
      "0    0.241553\n",
      "1    0.423267\n",
      "Name: Churn, dtype: float64\n"
     ]
    }
   ],
   "source": [
    "churn_by_age = df_subset.groupby('SeniorCitizen', observed=True)['Churn'].apply(lambda x: (x == 'Yes').mean())\n",
    "print(churn_by_age)"
   ]
  },
  {
   "cell_type": "markdown",
   "id": "5b97ec68",
   "metadata": {},
   "source": [
    "Seniors are churning at a much higher rate.\n",
    "\n",
    "Non-seniors are more stable customers."
   ]
  },
  {
   "cell_type": "code",
   "execution_count": 70,
   "id": "aa609c5c",
   "metadata": {},
   "outputs": [
    {
     "name": "stdout",
     "output_type": "stream",
     "text": [
      "gender\n",
      "Female    0.272908\n",
      "Male      0.269122\n",
      "Name: Churn, dtype: float64\n"
     ]
    }
   ],
   "source": [
    "churn_by_gender = df_subset.groupby('gender', observed=True)['Churn'].apply(lambda x: (x == 'Yes').mean())\n",
    "print(churn_by_gender)"
   ]
  },
  {
   "cell_type": "markdown",
   "id": "90682456",
   "metadata": {},
   "source": [
    "Gender does not significantly influence churnning. "
   ]
  },
  {
   "cell_type": "code",
   "execution_count": 72,
   "id": "ede18f12",
   "metadata": {},
   "outputs": [
    {
     "name": "stdout",
     "output_type": "stream",
     "text": [
      "Partner\n",
      "No     0.339328\n",
      "Yes    0.198927\n",
      "Name: Churn, dtype: float64\n"
     ]
    }
   ],
   "source": [
    "churn_by_partner = df_subset.groupby('Partner', observed=True)['Churn'].apply(lambda x: (x == 'Yes').mean())\n",
    "print(churn_by_partner)"
   ]
  },
  {
   "cell_type": "markdown",
   "id": "2f769eb5",
   "metadata": {},
   "source": [
    "Customers without a partner churn more.\n",
    "\n",
    "Having a partner is associated with lower churn."
   ]
  },
  {
   "cell_type": "code",
   "execution_count": 74,
   "id": "46dcf9df",
   "metadata": {},
   "outputs": [
    {
     "name": "stdout",
     "output_type": "stream",
     "text": [
      "Dependents\n",
      "No     0.318064\n",
      "Yes    0.162914\n",
      "Name: Churn, dtype: float64\n"
     ]
    }
   ],
   "source": [
    "churn_by_dependents = df_subset.groupby('Dependents', observed=True)['Churn'].apply(lambda x: (x == 'Yes').mean())\n",
    "print(churn_by_dependents)"
   ]
  },
  {
   "cell_type": "markdown",
   "id": "9af26ada",
   "metadata": {},
   "source": [
    "Customers with no dependents churn nearly twice as much as those with dependents.\n",
    "\n",
    "Customers with dependents are more stable and loyal."
   ]
  },
  {
   "cell_type": "code",
   "execution_count": 76,
   "id": "e2dcc185",
   "metadata": {},
   "outputs": [
    {
     "name": "stdout",
     "output_type": "stream",
     "text": [
      "TenureGroup\n",
      "New         0.484887\n",
      "Mid-Term    0.240541\n",
      "Loyal       0.095812\n",
      "Name: Churn, dtype: float64\n"
     ]
    }
   ],
   "source": [
    "df_subset['TenureGroup'] = pd.cut(df_subset['tenure'], bins=[0, 12, 48, df_subset['tenure'].max()],\n",
    "                           labels=['New', 'Mid-Term', 'Loyal'])\n",
    "\n",
    "churn_by_tenure_group = df_subset.groupby('TenureGroup', observed=True)['Churn'].apply(lambda x: (x == 'Yes').mean())\n",
    "print(churn_by_tenure_group)"
   ]
  },
  {
   "cell_type": "markdown",
   "id": "33eed7fe",
   "metadata": {},
   "source": [
    "Early-stage churn is the biggest problem.\n",
    "\n",
    "Mid-term customers are more stable, but still risk losing 1 in 4.\n",
    "\n",
    "Loyal customers are highly valuable in the group."
   ]
  },
  {
   "cell_type": "code",
   "execution_count": 78,
   "id": "78264f22",
   "metadata": {},
   "outputs": [
    {
     "name": "stdout",
     "output_type": "stream",
     "text": [
      "ChargeGroup\n",
      "(18.6, 43.712]      0.123967\n",
      "(43.712, 68.725]    0.222222\n",
      "(68.725, 93.738]    0.373707\n",
      "(93.738, 118.75]    0.342995\n",
      "Name: Churn, dtype: float64\n"
     ]
    }
   ],
   "source": [
    "df_subset['ChargeGroup'] = pd.cut(df_subset['MonthlyCharges'], bins=4)\n",
    "\n",
    "churn_by_charge = df_subset.groupby('ChargeGroup', observed=True)['Churn'].apply(lambda x: (x == 'Yes').mean())\n",
    "print(churn_by_charge)"
   ]
  },
  {
   "cell_type": "markdown",
   "id": "95a2f0cf",
   "metadata": {},
   "source": [
    "Churn increases as MonthlyCharges increase up to a point.\n",
    "\n",
    "Mid-low range (43–68) is good balance between value and loyalty.\n",
    "\n",
    "Two highest brackets have over 1 in 3 customers churning, which is high as these users bring more revenue."
   ]
  },
  {
   "cell_type": "code",
   "execution_count": 80,
   "id": "6f3063c0",
   "metadata": {
    "scrolled": true
   },
   "outputs": [
    {
     "name": "stdout",
     "output_type": "stream",
     "text": [
      "PaymentMethod   Bank transfer (automatic)  Credit card (automatic)  \\\n",
      "Contract                                                             \n",
      "Month-to-month                   0.334928                 0.329923   \n",
      "One year                         0.082734                 0.101399   \n",
      "Two year                         0.032099                 0.026829   \n",
      "\n",
      "PaymentMethod   Electronic check  Mailed check  \n",
      "Contract                                        \n",
      "Month-to-month          0.551234      0.320451  \n",
      "One year                0.197368      0.059574  \n",
      "Two year                0.072165      0.010909  \n"
     ]
    }
   ],
   "source": [
    "churn_by_contract_payment = df_subset.pivot_table(\n",
    "    index='Contract',\n",
    "    columns='PaymentMethod',\n",
    "    values='Churn',\n",
    "    aggfunc=lambda x: (x == 'Yes').mean()\n",
    ")\n",
    "\n",
    "print(churn_by_contract_payment)"
   ]
  },
  {
   "cell_type": "markdown",
   "id": "e2a08789",
   "metadata": {},
   "source": [
    "Longer contracts dramatically reduce churn across all payment types.\n",
    "\n",
    "Electronic Check is at High Risk: Month-to-month plans, where churn is over 55%.\n",
    "\n",
    "Automatic payments provides moderate stability.\n",
    "\n",
    "Mailed check has loyal in long term contracts."
   ]
  },
  {
   "cell_type": "code",
   "execution_count": 82,
   "id": "394bf2ee",
   "metadata": {},
   "outputs": [
    {
     "name": "stdout",
     "output_type": "stream",
     "text": [
      "ChargeGroup  (18.698999999999998, 35.8]  (35.8, 70.45]  (70.45, 89.85]  \\\n",
      "TenureGroup                                                              \n",
      "New                            0.249448       0.444672        0.662971   \n",
      "Mid-Term                       0.054737       0.168803        0.339912   \n",
      "Loyal                          0.012579       0.054795        0.065476   \n",
      "\n",
      "ChargeGroup  (89.85, 118.75]  \n",
      "TenureGroup                   \n",
      "New                 0.766871  \n",
      "Mid-Term            0.410200  \n",
      "Loyal               0.173016  \n"
     ]
    }
   ],
   "source": [
    "df_subset['TenureGroup'] = pd.cut(df_subset['tenure'], bins=[0, 12, 48, df_subset['tenure'].max()],\n",
    "                           labels=['New', 'Mid-Term', 'Loyal'])\n",
    "\n",
    "\n",
    "df_subset['ChargeGroup'] = pd.qcut(df_subset['MonthlyCharges'], q=4)\n",
    "\n",
    "churn_by_tenure_charge = df_subset.pivot_table(\n",
    "    index='TenureGroup',\n",
    "    columns='ChargeGroup',\n",
    "    values='Churn',\n",
    "    aggfunc=lambda x: (x == 'Yes').mean()\n",
    ")\n",
    "print(churn_by_tenure_charge)\n",
    "\n",
    "df_subset.drop('ChargeGroup', axis=1, inplace=True)\n"
   ]
  },
  {
   "cell_type": "markdown",
   "id": "833d387d",
   "metadata": {},
   "source": [
    "New customers in the highest charge bracket have a 76.7% churn rate, they are likely overwhelmed or dont see value fast enough.\n",
    "\n",
    "Even new users with the lowest charges churn much less (25%), price sensitivity is real.\n",
    "\n",
    "Loyal users with low charges are practically locked in (1.3% churn).\n",
    "\n",
    "Long tenure customers can handle higher charges without high churn, as they are already invested."
   ]
  },
  {
   "cell_type": "code",
   "execution_count": 84,
   "id": "07e7cacd",
   "metadata": {},
   "outputs": [
    {
     "name": "stdout",
     "output_type": "stream",
     "text": [
      "StreamingTV            No  No internet service       Yes\n",
      "InternetService                                         \n",
      "DSL              0.229665                  NaN  0.139673\n",
      "Fiber optic      0.455208                  NaN  0.404800\n",
      "No                    NaN             0.069326       NaN\n"
     ]
    }
   ],
   "source": [
    "churn_by_internet_streaming = df_subset.pivot_table(\n",
    "    index='InternetService',\n",
    "    columns='StreamingTV',\n",
    "    values='Churn',\n",
    "    aggfunc=lambda x: (x == 'Yes').mean()\n",
    ")\n",
    "print(churn_by_internet_streaming)"
   ]
  },
  {
   "cell_type": "markdown",
   "id": "5990b020",
   "metadata": {},
   "source": [
    "Whether users stream TV or not, Fiber Optic customers churn the most.\n",
    "\n",
    "Those using DSL and streaming are more satisfied (13.97%) than those with DSL and no streaming (22.97%).\n",
    "\n",
    "Customers without Internet Service Have the lowest churn (6.93%)"
   ]
  },
  {
   "cell_type": "code",
   "execution_count": 86,
   "id": "5bdb6bde",
   "metadata": {},
   "outputs": [
    {
     "name": "stdout",
     "output_type": "stream",
     "text": [
      "Churn\n",
      "No     3631\n",
      "Yes    1350\n",
      "Name: count, dtype: int64\n"
     ]
    }
   ],
   "source": [
    "print(df_subset['Churn'].value_counts())"
   ]
  },
  {
   "cell_type": "code",
   "execution_count": 87,
   "id": "ca10635c",
   "metadata": {},
   "outputs": [
    {
     "data": {
      "text/html": [
       "<div>\n",
       "<style scoped>\n",
       "    .dataframe tbody tr th:only-of-type {\n",
       "        vertical-align: middle;\n",
       "    }\n",
       "\n",
       "    .dataframe tbody tr th {\n",
       "        vertical-align: top;\n",
       "    }\n",
       "\n",
       "    .dataframe thead th {\n",
       "        text-align: right;\n",
       "    }\n",
       "</style>\n",
       "<table border=\"1\" class=\"dataframe\">\n",
       "  <thead>\n",
       "    <tr style=\"text-align: right;\">\n",
       "      <th></th>\n",
       "      <th>gender</th>\n",
       "      <th>SeniorCitizen</th>\n",
       "      <th>Partner</th>\n",
       "      <th>Dependents</th>\n",
       "      <th>tenure</th>\n",
       "      <th>PhoneService</th>\n",
       "      <th>MultipleLines</th>\n",
       "      <th>InternetService</th>\n",
       "      <th>OnlineSecurity</th>\n",
       "      <th>OnlineBackup</th>\n",
       "      <th>DeviceProtection</th>\n",
       "      <th>TechSupport</th>\n",
       "      <th>StreamingTV</th>\n",
       "      <th>StreamingMovies</th>\n",
       "      <th>Contract</th>\n",
       "      <th>PaperlessBilling</th>\n",
       "      <th>PaymentMethod</th>\n",
       "      <th>MonthlyCharges</th>\n",
       "      <th>TotalCharges</th>\n",
       "      <th>Churn</th>\n",
       "      <th>TenureGroup</th>\n",
       "    </tr>\n",
       "  </thead>\n",
       "  <tbody>\n",
       "    <tr>\n",
       "      <th>185</th>\n",
       "      <td>Female</td>\n",
       "      <td>0</td>\n",
       "      <td>Yes</td>\n",
       "      <td>No</td>\n",
       "      <td>1</td>\n",
       "      <td>No</td>\n",
       "      <td>No phone service</td>\n",
       "      <td>DSL</td>\n",
       "      <td>No</td>\n",
       "      <td>No</td>\n",
       "      <td>No</td>\n",
       "      <td>No</td>\n",
       "      <td>No</td>\n",
       "      <td>No</td>\n",
       "      <td>Month-to-month</td>\n",
       "      <td>Yes</td>\n",
       "      <td>Electronic check</td>\n",
       "      <td>24.80</td>\n",
       "      <td>24.80</td>\n",
       "      <td>Yes</td>\n",
       "      <td>New</td>\n",
       "    </tr>\n",
       "    <tr>\n",
       "      <th>2715</th>\n",
       "      <td>Male</td>\n",
       "      <td>0</td>\n",
       "      <td>No</td>\n",
       "      <td>No</td>\n",
       "      <td>41</td>\n",
       "      <td>Yes</td>\n",
       "      <td>Yes</td>\n",
       "      <td>No</td>\n",
       "      <td>No internet service</td>\n",
       "      <td>No internet service</td>\n",
       "      <td>No internet service</td>\n",
       "      <td>No internet service</td>\n",
       "      <td>No internet service</td>\n",
       "      <td>No internet service</td>\n",
       "      <td>Month-to-month</td>\n",
       "      <td>Yes</td>\n",
       "      <td>Bank transfer (automatic)</td>\n",
       "      <td>25.25</td>\n",
       "      <td>996.45</td>\n",
       "      <td>No</td>\n",
       "      <td>Mid-Term</td>\n",
       "    </tr>\n",
       "    <tr>\n",
       "      <th>3825</th>\n",
       "      <td>Female</td>\n",
       "      <td>0</td>\n",
       "      <td>Yes</td>\n",
       "      <td>Yes</td>\n",
       "      <td>52</td>\n",
       "      <td>Yes</td>\n",
       "      <td>No</td>\n",
       "      <td>No</td>\n",
       "      <td>No internet service</td>\n",
       "      <td>No internet service</td>\n",
       "      <td>No internet service</td>\n",
       "      <td>No internet service</td>\n",
       "      <td>No internet service</td>\n",
       "      <td>No internet service</td>\n",
       "      <td>Two year</td>\n",
       "      <td>No</td>\n",
       "      <td>Mailed check</td>\n",
       "      <td>19.35</td>\n",
       "      <td>1031.70</td>\n",
       "      <td>No</td>\n",
       "      <td>Loyal</td>\n",
       "    </tr>\n",
       "    <tr>\n",
       "      <th>1807</th>\n",
       "      <td>Female</td>\n",
       "      <td>0</td>\n",
       "      <td>No</td>\n",
       "      <td>No</td>\n",
       "      <td>1</td>\n",
       "      <td>Yes</td>\n",
       "      <td>No</td>\n",
       "      <td>Fiber optic</td>\n",
       "      <td>No</td>\n",
       "      <td>No</td>\n",
       "      <td>Yes</td>\n",
       "      <td>No</td>\n",
       "      <td>No</td>\n",
       "      <td>No</td>\n",
       "      <td>Month-to-month</td>\n",
       "      <td>No</td>\n",
       "      <td>Electronic check</td>\n",
       "      <td>76.35</td>\n",
       "      <td>76.35</td>\n",
       "      <td>Yes</td>\n",
       "      <td>New</td>\n",
       "    </tr>\n",
       "    <tr>\n",
       "      <th>132</th>\n",
       "      <td>Male</td>\n",
       "      <td>0</td>\n",
       "      <td>No</td>\n",
       "      <td>No</td>\n",
       "      <td>67</td>\n",
       "      <td>Yes</td>\n",
       "      <td>No</td>\n",
       "      <td>DSL</td>\n",
       "      <td>No</td>\n",
       "      <td>No</td>\n",
       "      <td>No</td>\n",
       "      <td>Yes</td>\n",
       "      <td>No</td>\n",
       "      <td>No</td>\n",
       "      <td>Two year</td>\n",
       "      <td>No</td>\n",
       "      <td>Bank transfer (automatic)</td>\n",
       "      <td>50.55</td>\n",
       "      <td>3260.10</td>\n",
       "      <td>No</td>\n",
       "      <td>Loyal</td>\n",
       "    </tr>\n",
       "  </tbody>\n",
       "</table>\n",
       "</div>"
      ],
      "text/plain": [
       "      gender  SeniorCitizen Partner Dependents  tenure PhoneService  \\\n",
       "185   Female              0     Yes         No       1           No   \n",
       "2715    Male              0      No         No      41          Yes   \n",
       "3825  Female              0     Yes        Yes      52          Yes   \n",
       "1807  Female              0      No         No       1          Yes   \n",
       "132     Male              0      No         No      67          Yes   \n",
       "\n",
       "         MultipleLines InternetService       OnlineSecurity  \\\n",
       "185   No phone service             DSL                   No   \n",
       "2715               Yes              No  No internet service   \n",
       "3825                No              No  No internet service   \n",
       "1807                No     Fiber optic                   No   \n",
       "132                 No             DSL                   No   \n",
       "\n",
       "             OnlineBackup     DeviceProtection          TechSupport  \\\n",
       "185                    No                   No                   No   \n",
       "2715  No internet service  No internet service  No internet service   \n",
       "3825  No internet service  No internet service  No internet service   \n",
       "1807                   No                  Yes                   No   \n",
       "132                    No                   No                  Yes   \n",
       "\n",
       "              StreamingTV      StreamingMovies        Contract  \\\n",
       "185                    No                   No  Month-to-month   \n",
       "2715  No internet service  No internet service  Month-to-month   \n",
       "3825  No internet service  No internet service        Two year   \n",
       "1807                   No                   No  Month-to-month   \n",
       "132                    No                   No        Two year   \n",
       "\n",
       "     PaperlessBilling              PaymentMethod  MonthlyCharges  \\\n",
       "185               Yes           Electronic check           24.80   \n",
       "2715              Yes  Bank transfer (automatic)           25.25   \n",
       "3825               No               Mailed check           19.35   \n",
       "1807               No           Electronic check           76.35   \n",
       "132                No  Bank transfer (automatic)           50.55   \n",
       "\n",
       "      TotalCharges Churn TenureGroup  \n",
       "185          24.80   Yes         New  \n",
       "2715        996.45    No    Mid-Term  \n",
       "3825       1031.70    No       Loyal  \n",
       "1807         76.35   Yes         New  \n",
       "132        3260.10    No       Loyal  "
      ]
     },
     "execution_count": 87,
     "metadata": {},
     "output_type": "execute_result"
    }
   ],
   "source": [
    "df_subset.head()"
   ]
  },
  {
   "cell_type": "markdown",
   "id": "b08770b0-90e3-407a-b47e-99c9ffab872f",
   "metadata": {},
   "source": [
    "# Task 4: Data Visualization"
   ]
  },
  {
   "cell_type": "code",
   "execution_count": 89,
   "id": "e3f8f766-33f7-40b9-b114-003661b8ee0c",
   "metadata": {},
   "outputs": [
    {
     "data": {
      "text/plain": [
       "Index(['gender', 'SeniorCitizen', 'Partner', 'Dependents', 'tenure',\n",
       "       'PhoneService', 'MultipleLines', 'InternetService', 'OnlineSecurity',\n",
       "       'OnlineBackup', 'DeviceProtection', 'TechSupport', 'StreamingTV',\n",
       "       'StreamingMovies', 'Contract', 'PaperlessBilling', 'PaymentMethod',\n",
       "       'MonthlyCharges', 'TotalCharges', 'Churn', 'TenureGroup'],\n",
       "      dtype='object')"
      ]
     },
     "execution_count": 89,
     "metadata": {},
     "output_type": "execute_result"
    }
   ],
   "source": [
    "df_subset.columns"
   ]
  },
  {
   "cell_type": "code",
   "execution_count": 90,
   "id": "1eb28a9a-387d-42b5-82d5-bc9a417bacf7",
   "metadata": {},
   "outputs": [
    {
     "data": {
      "text/html": [
       "<div>\n",
       "<style scoped>\n",
       "    .dataframe tbody tr th:only-of-type {\n",
       "        vertical-align: middle;\n",
       "    }\n",
       "\n",
       "    .dataframe tbody tr th {\n",
       "        vertical-align: top;\n",
       "    }\n",
       "\n",
       "    .dataframe thead th {\n",
       "        text-align: right;\n",
       "    }\n",
       "</style>\n",
       "<table border=\"1\" class=\"dataframe\">\n",
       "  <thead>\n",
       "    <tr style=\"text-align: right;\">\n",
       "      <th></th>\n",
       "      <th>gender</th>\n",
       "      <th>SeniorCitizen</th>\n",
       "      <th>Partner</th>\n",
       "      <th>Dependents</th>\n",
       "      <th>tenure</th>\n",
       "      <th>PhoneService</th>\n",
       "      <th>MultipleLines</th>\n",
       "      <th>InternetService</th>\n",
       "      <th>OnlineSecurity</th>\n",
       "      <th>OnlineBackup</th>\n",
       "      <th>DeviceProtection</th>\n",
       "      <th>TechSupport</th>\n",
       "      <th>StreamingTV</th>\n",
       "      <th>StreamingMovies</th>\n",
       "      <th>Contract</th>\n",
       "      <th>PaperlessBilling</th>\n",
       "      <th>PaymentMethod</th>\n",
       "      <th>MonthlyCharges</th>\n",
       "      <th>TotalCharges</th>\n",
       "      <th>Churn</th>\n",
       "      <th>TenureGroup</th>\n",
       "    </tr>\n",
       "  </thead>\n",
       "  <tbody>\n",
       "    <tr>\n",
       "      <th>185</th>\n",
       "      <td>Female</td>\n",
       "      <td>0</td>\n",
       "      <td>Yes</td>\n",
       "      <td>No</td>\n",
       "      <td>1</td>\n",
       "      <td>No</td>\n",
       "      <td>No phone service</td>\n",
       "      <td>DSL</td>\n",
       "      <td>No</td>\n",
       "      <td>No</td>\n",
       "      <td>No</td>\n",
       "      <td>No</td>\n",
       "      <td>No</td>\n",
       "      <td>No</td>\n",
       "      <td>Month-to-month</td>\n",
       "      <td>Yes</td>\n",
       "      <td>Electronic check</td>\n",
       "      <td>24.80</td>\n",
       "      <td>24.80</td>\n",
       "      <td>Yes</td>\n",
       "      <td>New</td>\n",
       "    </tr>\n",
       "    <tr>\n",
       "      <th>2715</th>\n",
       "      <td>Male</td>\n",
       "      <td>0</td>\n",
       "      <td>No</td>\n",
       "      <td>No</td>\n",
       "      <td>41</td>\n",
       "      <td>Yes</td>\n",
       "      <td>Yes</td>\n",
       "      <td>No</td>\n",
       "      <td>No internet service</td>\n",
       "      <td>No internet service</td>\n",
       "      <td>No internet service</td>\n",
       "      <td>No internet service</td>\n",
       "      <td>No internet service</td>\n",
       "      <td>No internet service</td>\n",
       "      <td>Month-to-month</td>\n",
       "      <td>Yes</td>\n",
       "      <td>Bank transfer (automatic)</td>\n",
       "      <td>25.25</td>\n",
       "      <td>996.45</td>\n",
       "      <td>No</td>\n",
       "      <td>Mid-Term</td>\n",
       "    </tr>\n",
       "    <tr>\n",
       "      <th>3825</th>\n",
       "      <td>Female</td>\n",
       "      <td>0</td>\n",
       "      <td>Yes</td>\n",
       "      <td>Yes</td>\n",
       "      <td>52</td>\n",
       "      <td>Yes</td>\n",
       "      <td>No</td>\n",
       "      <td>No</td>\n",
       "      <td>No internet service</td>\n",
       "      <td>No internet service</td>\n",
       "      <td>No internet service</td>\n",
       "      <td>No internet service</td>\n",
       "      <td>No internet service</td>\n",
       "      <td>No internet service</td>\n",
       "      <td>Two year</td>\n",
       "      <td>No</td>\n",
       "      <td>Mailed check</td>\n",
       "      <td>19.35</td>\n",
       "      <td>1031.70</td>\n",
       "      <td>No</td>\n",
       "      <td>Loyal</td>\n",
       "    </tr>\n",
       "    <tr>\n",
       "      <th>1807</th>\n",
       "      <td>Female</td>\n",
       "      <td>0</td>\n",
       "      <td>No</td>\n",
       "      <td>No</td>\n",
       "      <td>1</td>\n",
       "      <td>Yes</td>\n",
       "      <td>No</td>\n",
       "      <td>Fiber optic</td>\n",
       "      <td>No</td>\n",
       "      <td>No</td>\n",
       "      <td>Yes</td>\n",
       "      <td>No</td>\n",
       "      <td>No</td>\n",
       "      <td>No</td>\n",
       "      <td>Month-to-month</td>\n",
       "      <td>No</td>\n",
       "      <td>Electronic check</td>\n",
       "      <td>76.35</td>\n",
       "      <td>76.35</td>\n",
       "      <td>Yes</td>\n",
       "      <td>New</td>\n",
       "    </tr>\n",
       "    <tr>\n",
       "      <th>132</th>\n",
       "      <td>Male</td>\n",
       "      <td>0</td>\n",
       "      <td>No</td>\n",
       "      <td>No</td>\n",
       "      <td>67</td>\n",
       "      <td>Yes</td>\n",
       "      <td>No</td>\n",
       "      <td>DSL</td>\n",
       "      <td>No</td>\n",
       "      <td>No</td>\n",
       "      <td>No</td>\n",
       "      <td>Yes</td>\n",
       "      <td>No</td>\n",
       "      <td>No</td>\n",
       "      <td>Two year</td>\n",
       "      <td>No</td>\n",
       "      <td>Bank transfer (automatic)</td>\n",
       "      <td>50.55</td>\n",
       "      <td>3260.10</td>\n",
       "      <td>No</td>\n",
       "      <td>Loyal</td>\n",
       "    </tr>\n",
       "    <tr>\n",
       "      <th>1263</th>\n",
       "      <td>Female</td>\n",
       "      <td>1</td>\n",
       "      <td>Yes</td>\n",
       "      <td>No</td>\n",
       "      <td>68</td>\n",
       "      <td>Yes</td>\n",
       "      <td>Yes</td>\n",
       "      <td>Fiber optic</td>\n",
       "      <td>No</td>\n",
       "      <td>Yes</td>\n",
       "      <td>No</td>\n",
       "      <td>No</td>\n",
       "      <td>No</td>\n",
       "      <td>Yes</td>\n",
       "      <td>Month-to-month</td>\n",
       "      <td>Yes</td>\n",
       "      <td>Bank transfer (automatic)</td>\n",
       "      <td>89.60</td>\n",
       "      <td>6127.60</td>\n",
       "      <td>Yes</td>\n",
       "      <td>Loyal</td>\n",
       "    </tr>\n",
       "    <tr>\n",
       "      <th>3732</th>\n",
       "      <td>Female</td>\n",
       "      <td>0</td>\n",
       "      <td>Yes</td>\n",
       "      <td>Yes</td>\n",
       "      <td>23</td>\n",
       "      <td>Yes</td>\n",
       "      <td>Yes</td>\n",
       "      <td>DSL</td>\n",
       "      <td>Yes</td>\n",
       "      <td>No</td>\n",
       "      <td>Yes</td>\n",
       "      <td>Yes</td>\n",
       "      <td>Yes</td>\n",
       "      <td>No</td>\n",
       "      <td>Two year</td>\n",
       "      <td>Yes</td>\n",
       "      <td>Bank transfer (automatic)</td>\n",
       "      <td>77.15</td>\n",
       "      <td>1759.40</td>\n",
       "      <td>No</td>\n",
       "      <td>Mid-Term</td>\n",
       "    </tr>\n",
       "    <tr>\n",
       "      <th>1672</th>\n",
       "      <td>Male</td>\n",
       "      <td>0</td>\n",
       "      <td>Yes</td>\n",
       "      <td>Yes</td>\n",
       "      <td>72</td>\n",
       "      <td>Yes</td>\n",
       "      <td>Yes</td>\n",
       "      <td>DSL</td>\n",
       "      <td>Yes</td>\n",
       "      <td>Yes</td>\n",
       "      <td>Yes</td>\n",
       "      <td>Yes</td>\n",
       "      <td>No</td>\n",
       "      <td>No</td>\n",
       "      <td>Two year</td>\n",
       "      <td>No</td>\n",
       "      <td>Credit card (automatic)</td>\n",
       "      <td>72.10</td>\n",
       "      <td>5016.65</td>\n",
       "      <td>No</td>\n",
       "      <td>Loyal</td>\n",
       "    </tr>\n",
       "    <tr>\n",
       "      <th>811</th>\n",
       "      <td>Male</td>\n",
       "      <td>0</td>\n",
       "      <td>No</td>\n",
       "      <td>No</td>\n",
       "      <td>70</td>\n",
       "      <td>Yes</td>\n",
       "      <td>Yes</td>\n",
       "      <td>Fiber optic</td>\n",
       "      <td>Yes</td>\n",
       "      <td>No</td>\n",
       "      <td>No</td>\n",
       "      <td>Yes</td>\n",
       "      <td>Yes</td>\n",
       "      <td>Yes</td>\n",
       "      <td>Two year</td>\n",
       "      <td>Yes</td>\n",
       "      <td>Credit card (automatic)</td>\n",
       "      <td>104.00</td>\n",
       "      <td>7250.15</td>\n",
       "      <td>Yes</td>\n",
       "      <td>Loyal</td>\n",
       "    </tr>\n",
       "    <tr>\n",
       "      <th>2526</th>\n",
       "      <td>Male</td>\n",
       "      <td>0</td>\n",
       "      <td>No</td>\n",
       "      <td>No</td>\n",
       "      <td>1</td>\n",
       "      <td>Yes</td>\n",
       "      <td>No</td>\n",
       "      <td>No</td>\n",
       "      <td>No internet service</td>\n",
       "      <td>No internet service</td>\n",
       "      <td>No internet service</td>\n",
       "      <td>No internet service</td>\n",
       "      <td>No internet service</td>\n",
       "      <td>No internet service</td>\n",
       "      <td>Month-to-month</td>\n",
       "      <td>No</td>\n",
       "      <td>Mailed check</td>\n",
       "      <td>19.40</td>\n",
       "      <td>19.40</td>\n",
       "      <td>Yes</td>\n",
       "      <td>New</td>\n",
       "    </tr>\n",
       "  </tbody>\n",
       "</table>\n",
       "</div>"
      ],
      "text/plain": [
       "      gender  SeniorCitizen Partner Dependents  tenure PhoneService  \\\n",
       "185   Female              0     Yes         No       1           No   \n",
       "2715    Male              0      No         No      41          Yes   \n",
       "3825  Female              0     Yes        Yes      52          Yes   \n",
       "1807  Female              0      No         No       1          Yes   \n",
       "132     Male              0      No         No      67          Yes   \n",
       "1263  Female              1     Yes         No      68          Yes   \n",
       "3732  Female              0     Yes        Yes      23          Yes   \n",
       "1672    Male              0     Yes        Yes      72          Yes   \n",
       "811     Male              0      No         No      70          Yes   \n",
       "2526    Male              0      No         No       1          Yes   \n",
       "\n",
       "         MultipleLines InternetService       OnlineSecurity  \\\n",
       "185   No phone service             DSL                   No   \n",
       "2715               Yes              No  No internet service   \n",
       "3825                No              No  No internet service   \n",
       "1807                No     Fiber optic                   No   \n",
       "132                 No             DSL                   No   \n",
       "1263               Yes     Fiber optic                   No   \n",
       "3732               Yes             DSL                  Yes   \n",
       "1672               Yes             DSL                  Yes   \n",
       "811                Yes     Fiber optic                  Yes   \n",
       "2526                No              No  No internet service   \n",
       "\n",
       "             OnlineBackup     DeviceProtection          TechSupport  \\\n",
       "185                    No                   No                   No   \n",
       "2715  No internet service  No internet service  No internet service   \n",
       "3825  No internet service  No internet service  No internet service   \n",
       "1807                   No                  Yes                   No   \n",
       "132                    No                   No                  Yes   \n",
       "1263                  Yes                   No                   No   \n",
       "3732                   No                  Yes                  Yes   \n",
       "1672                  Yes                  Yes                  Yes   \n",
       "811                    No                   No                  Yes   \n",
       "2526  No internet service  No internet service  No internet service   \n",
       "\n",
       "              StreamingTV      StreamingMovies        Contract  \\\n",
       "185                    No                   No  Month-to-month   \n",
       "2715  No internet service  No internet service  Month-to-month   \n",
       "3825  No internet service  No internet service        Two year   \n",
       "1807                   No                   No  Month-to-month   \n",
       "132                    No                   No        Two year   \n",
       "1263                   No                  Yes  Month-to-month   \n",
       "3732                  Yes                   No        Two year   \n",
       "1672                   No                   No        Two year   \n",
       "811                   Yes                  Yes        Two year   \n",
       "2526  No internet service  No internet service  Month-to-month   \n",
       "\n",
       "     PaperlessBilling              PaymentMethod  MonthlyCharges  \\\n",
       "185               Yes           Electronic check           24.80   \n",
       "2715              Yes  Bank transfer (automatic)           25.25   \n",
       "3825               No               Mailed check           19.35   \n",
       "1807               No           Electronic check           76.35   \n",
       "132                No  Bank transfer (automatic)           50.55   \n",
       "1263              Yes  Bank transfer (automatic)           89.60   \n",
       "3732              Yes  Bank transfer (automatic)           77.15   \n",
       "1672               No    Credit card (automatic)           72.10   \n",
       "811               Yes    Credit card (automatic)          104.00   \n",
       "2526               No               Mailed check           19.40   \n",
       "\n",
       "      TotalCharges Churn TenureGroup  \n",
       "185          24.80   Yes         New  \n",
       "2715        996.45    No    Mid-Term  \n",
       "3825       1031.70    No       Loyal  \n",
       "1807         76.35   Yes         New  \n",
       "132        3260.10    No       Loyal  \n",
       "1263       6127.60   Yes       Loyal  \n",
       "3732       1759.40    No    Mid-Term  \n",
       "1672       5016.65    No       Loyal  \n",
       "811        7250.15   Yes       Loyal  \n",
       "2526         19.40   Yes         New  "
      ]
     },
     "execution_count": 90,
     "metadata": {},
     "output_type": "execute_result"
    }
   ],
   "source": [
    "df_subset.head(10)"
   ]
  },
  {
   "cell_type": "code",
   "execution_count": 91,
   "id": "6aa18547-5f4a-404a-be11-371da14d3aa5",
   "metadata": {
    "scrolled": true
   },
   "outputs": [
    {
     "data": {
      "text/plain": [
       "Index(['gender', 'SeniorCitizen', 'Partner', 'Dependents', 'tenure',\n",
       "       'PhoneService', 'MultipleLines', 'InternetService', 'OnlineSecurity',\n",
       "       'OnlineBackup', 'DeviceProtection', 'TechSupport', 'StreamingTV',\n",
       "       'StreamingMovies', 'Contract', 'PaperlessBilling', 'PaymentMethod',\n",
       "       'MonthlyCharges', 'TotalCharges', 'Churn', 'TenureGroup'],\n",
       "      dtype='object')"
      ]
     },
     "execution_count": 91,
     "metadata": {},
     "output_type": "execute_result"
    }
   ],
   "source": [
    "df_subset.columns"
   ]
  },
  {
   "cell_type": "code",
   "execution_count": 92,
   "id": "afad6b66-c0ab-41e1-ae2f-f4eff2b98a93",
   "metadata": {},
   "outputs": [],
   "source": [
    "df_subset['TenureGroup'] = pd.cut(df_subset['tenure'], bins=[0, 12, 36, 72], labels=['New', 'Mid', 'Loyal'])"
   ]
  },
  {
   "cell_type": "code",
   "execution_count": 93,
   "id": "2a323ab1-c91c-444a-8e11-f816045c3469",
   "metadata": {
    "scrolled": true
   },
   "outputs": [
    {
     "data": {
      "text/html": [
       "<div>\n",
       "<style scoped>\n",
       "    .dataframe tbody tr th:only-of-type {\n",
       "        vertical-align: middle;\n",
       "    }\n",
       "\n",
       "    .dataframe tbody tr th {\n",
       "        vertical-align: top;\n",
       "    }\n",
       "\n",
       "    .dataframe thead th {\n",
       "        text-align: right;\n",
       "    }\n",
       "</style>\n",
       "<table border=\"1\" class=\"dataframe\">\n",
       "  <thead>\n",
       "    <tr style=\"text-align: right;\">\n",
       "      <th></th>\n",
       "      <th>gender</th>\n",
       "      <th>SeniorCitizen</th>\n",
       "      <th>Partner</th>\n",
       "      <th>Dependents</th>\n",
       "      <th>tenure</th>\n",
       "      <th>PhoneService</th>\n",
       "      <th>MultipleLines</th>\n",
       "      <th>InternetService</th>\n",
       "      <th>OnlineSecurity</th>\n",
       "      <th>OnlineBackup</th>\n",
       "      <th>DeviceProtection</th>\n",
       "      <th>TechSupport</th>\n",
       "      <th>StreamingTV</th>\n",
       "      <th>StreamingMovies</th>\n",
       "      <th>Contract</th>\n",
       "      <th>PaperlessBilling</th>\n",
       "      <th>PaymentMethod</th>\n",
       "      <th>MonthlyCharges</th>\n",
       "      <th>TotalCharges</th>\n",
       "      <th>Churn</th>\n",
       "      <th>TenureGroup</th>\n",
       "    </tr>\n",
       "  </thead>\n",
       "  <tbody>\n",
       "    <tr>\n",
       "      <th>185</th>\n",
       "      <td>Female</td>\n",
       "      <td>0</td>\n",
       "      <td>Yes</td>\n",
       "      <td>No</td>\n",
       "      <td>1</td>\n",
       "      <td>No</td>\n",
       "      <td>No phone service</td>\n",
       "      <td>DSL</td>\n",
       "      <td>No</td>\n",
       "      <td>No</td>\n",
       "      <td>No</td>\n",
       "      <td>No</td>\n",
       "      <td>No</td>\n",
       "      <td>No</td>\n",
       "      <td>Month-to-month</td>\n",
       "      <td>Yes</td>\n",
       "      <td>Electronic check</td>\n",
       "      <td>24.80</td>\n",
       "      <td>24.80</td>\n",
       "      <td>Yes</td>\n",
       "      <td>New</td>\n",
       "    </tr>\n",
       "    <tr>\n",
       "      <th>2715</th>\n",
       "      <td>Male</td>\n",
       "      <td>0</td>\n",
       "      <td>No</td>\n",
       "      <td>No</td>\n",
       "      <td>41</td>\n",
       "      <td>Yes</td>\n",
       "      <td>Yes</td>\n",
       "      <td>No</td>\n",
       "      <td>No internet service</td>\n",
       "      <td>No internet service</td>\n",
       "      <td>No internet service</td>\n",
       "      <td>No internet service</td>\n",
       "      <td>No internet service</td>\n",
       "      <td>No internet service</td>\n",
       "      <td>Month-to-month</td>\n",
       "      <td>Yes</td>\n",
       "      <td>Bank transfer (automatic)</td>\n",
       "      <td>25.25</td>\n",
       "      <td>996.45</td>\n",
       "      <td>No</td>\n",
       "      <td>Loyal</td>\n",
       "    </tr>\n",
       "    <tr>\n",
       "      <th>3825</th>\n",
       "      <td>Female</td>\n",
       "      <td>0</td>\n",
       "      <td>Yes</td>\n",
       "      <td>Yes</td>\n",
       "      <td>52</td>\n",
       "      <td>Yes</td>\n",
       "      <td>No</td>\n",
       "      <td>No</td>\n",
       "      <td>No internet service</td>\n",
       "      <td>No internet service</td>\n",
       "      <td>No internet service</td>\n",
       "      <td>No internet service</td>\n",
       "      <td>No internet service</td>\n",
       "      <td>No internet service</td>\n",
       "      <td>Two year</td>\n",
       "      <td>No</td>\n",
       "      <td>Mailed check</td>\n",
       "      <td>19.35</td>\n",
       "      <td>1031.70</td>\n",
       "      <td>No</td>\n",
       "      <td>Loyal</td>\n",
       "    </tr>\n",
       "    <tr>\n",
       "      <th>1807</th>\n",
       "      <td>Female</td>\n",
       "      <td>0</td>\n",
       "      <td>No</td>\n",
       "      <td>No</td>\n",
       "      <td>1</td>\n",
       "      <td>Yes</td>\n",
       "      <td>No</td>\n",
       "      <td>Fiber optic</td>\n",
       "      <td>No</td>\n",
       "      <td>No</td>\n",
       "      <td>Yes</td>\n",
       "      <td>No</td>\n",
       "      <td>No</td>\n",
       "      <td>No</td>\n",
       "      <td>Month-to-month</td>\n",
       "      <td>No</td>\n",
       "      <td>Electronic check</td>\n",
       "      <td>76.35</td>\n",
       "      <td>76.35</td>\n",
       "      <td>Yes</td>\n",
       "      <td>New</td>\n",
       "    </tr>\n",
       "    <tr>\n",
       "      <th>132</th>\n",
       "      <td>Male</td>\n",
       "      <td>0</td>\n",
       "      <td>No</td>\n",
       "      <td>No</td>\n",
       "      <td>67</td>\n",
       "      <td>Yes</td>\n",
       "      <td>No</td>\n",
       "      <td>DSL</td>\n",
       "      <td>No</td>\n",
       "      <td>No</td>\n",
       "      <td>No</td>\n",
       "      <td>Yes</td>\n",
       "      <td>No</td>\n",
       "      <td>No</td>\n",
       "      <td>Two year</td>\n",
       "      <td>No</td>\n",
       "      <td>Bank transfer (automatic)</td>\n",
       "      <td>50.55</td>\n",
       "      <td>3260.10</td>\n",
       "      <td>No</td>\n",
       "      <td>Loyal</td>\n",
       "    </tr>\n",
       "  </tbody>\n",
       "</table>\n",
       "</div>"
      ],
      "text/plain": [
       "      gender  SeniorCitizen Partner Dependents  tenure PhoneService  \\\n",
       "185   Female              0     Yes         No       1           No   \n",
       "2715    Male              0      No         No      41          Yes   \n",
       "3825  Female              0     Yes        Yes      52          Yes   \n",
       "1807  Female              0      No         No       1          Yes   \n",
       "132     Male              0      No         No      67          Yes   \n",
       "\n",
       "         MultipleLines InternetService       OnlineSecurity  \\\n",
       "185   No phone service             DSL                   No   \n",
       "2715               Yes              No  No internet service   \n",
       "3825                No              No  No internet service   \n",
       "1807                No     Fiber optic                   No   \n",
       "132                 No             DSL                   No   \n",
       "\n",
       "             OnlineBackup     DeviceProtection          TechSupport  \\\n",
       "185                    No                   No                   No   \n",
       "2715  No internet service  No internet service  No internet service   \n",
       "3825  No internet service  No internet service  No internet service   \n",
       "1807                   No                  Yes                   No   \n",
       "132                    No                   No                  Yes   \n",
       "\n",
       "              StreamingTV      StreamingMovies        Contract  \\\n",
       "185                    No                   No  Month-to-month   \n",
       "2715  No internet service  No internet service  Month-to-month   \n",
       "3825  No internet service  No internet service        Two year   \n",
       "1807                   No                   No  Month-to-month   \n",
       "132                    No                   No        Two year   \n",
       "\n",
       "     PaperlessBilling              PaymentMethod  MonthlyCharges  \\\n",
       "185               Yes           Electronic check           24.80   \n",
       "2715              Yes  Bank transfer (automatic)           25.25   \n",
       "3825               No               Mailed check           19.35   \n",
       "1807               No           Electronic check           76.35   \n",
       "132                No  Bank transfer (automatic)           50.55   \n",
       "\n",
       "      TotalCharges Churn TenureGroup  \n",
       "185          24.80   Yes         New  \n",
       "2715        996.45    No       Loyal  \n",
       "3825       1031.70    No       Loyal  \n",
       "1807         76.35   Yes         New  \n",
       "132        3260.10    No       Loyal  "
      ]
     },
     "execution_count": 93,
     "metadata": {},
     "output_type": "execute_result"
    }
   ],
   "source": [
    "df_subset.head()"
   ]
  },
  {
   "cell_type": "markdown",
   "id": "d3c7fc3b-4dcf-4a14-be17-64bfef9bbef7",
   "metadata": {},
   "source": [
    "## Task 4.1: One Variable Visualization"
   ]
  },
  {
   "cell_type": "markdown",
   "id": "3378200d-1def-4db0-964d-0bc6a45ce837",
   "metadata": {},
   "source": [
    "### 1) Tenure months"
   ]
  },
  {
   "cell_type": "code",
   "execution_count": 96,
   "id": "c7ad2cb1-4139-456b-b431-87930bfa642b",
   "metadata": {},
   "outputs": [
    {
     "data": {
      "image/png": "[encoded data removed]",
      "text/plain": [
       "<Figure size 800x500 with 1 Axes>"
      ]
     },
     "metadata": {},
     "output_type": "display_data"
    }
   ],
   "source": [
    "plt.figure(figsize=(8,5))\n",
    "sns.histplot(data=df_subset, x='tenure', bins=10, kde=True, color='purple')\n",
    "plt.title('Distribution of Customer Tenure')\n",
    "plt.xlabel('Tenure (months)')\n",
    "plt.ylabel('Number of Customers')\n",
    "plt.show()"
   ]
  },
  {
   "cell_type": "markdown",
   "id": "31f6521a-4eab-4bc5-87f9-886c5de05dfb",
   "metadata": {},
   "source": [
    "The above graph depicts the tenure variable. Most customers tenure is around 0-10 months which does say that most customers leave/churn in their starting year itself. The decline is seen all the way until 60 months.\n",
    "\n",
    "And last there are customers who have stuck for 65-70 months. These could be two-year contract customers renewing."
   ]
  },
  {
   "cell_type": "markdown",
   "id": "15e4b93b-b39b-4d84-9986-2aef3781905d",
   "metadata": {},
   "source": [
    "### 2) Internet services variable"
   ]
  },
  {
   "cell_type": "code",
   "execution_count": 99,
   "id": "a46d9d04-30d9-44fd-9fe4-779093ed6eb5",
   "metadata": {},
   "outputs": [
    {
     "data": {
      "image/png": "[encoded data removed]",
      "text/plain": [
       "<Figure size 500x500 with 1 Axes>"
      ]
     },
     "metadata": {},
     "output_type": "display_data"
    }
   ],
   "source": [
    "plt.figure(figsize=(5, 5))\n",
    "sns.countplot(data=df_subset, x='InternetService', color = \"skyblue\")\n",
    "\n",
    "plt.title('Distribution of Internet Service Types')\n",
    "plt.xlabel('Internet Service')\n",
    "plt.ylabel('Number of Customers')\n",
    "plt.grid(axis='y', linestyle='--', alpha=0.5)\n",
    "plt.tight_layout()\n",
    "plt.show()"
   ]
  },
  {
   "cell_type": "markdown",
   "id": "8a241ac4-4d36-4b1f-ae34-eddfbd8aced9",
   "metadata": {},
   "source": [
    "The above visualization depicts that most our customers has Fiber optic internet services.\n",
    "Some of them have DSL and the other 1000 of them don't have Internet Service at all."
   ]
  },
  {
   "cell_type": "markdown",
   "id": "dea0693e-8d14-45c8-8919-120ab07ad5c8",
   "metadata": {},
   "source": [
    "### 3) Online Security"
   ]
  },
  {
   "cell_type": "code",
   "execution_count": 102,
   "id": "72dc8cd2-8a84-4aab-97af-99cd42355aba",
   "metadata": {},
   "outputs": [
    {
     "data": {
      "text/plain": [
       "TechSupport\n",
       "No                     2480\n",
       "Yes                    1448\n",
       "No internet service    1053\n",
       "Name: count, dtype: int64"
      ]
     },
     "execution_count": 102,
     "metadata": {},
     "output_type": "execute_result"
    }
   ],
   "source": [
    "df_subset['TechSupport'].value_counts()"
   ]
  },
  {
   "cell_type": "code",
   "execution_count": 103,
   "id": "30173cb9-bca7-4011-8852-5d930c920674",
   "metadata": {},
   "outputs": [
    {
     "data": {
      "text/plain": [
       "OnlineSecurity\n",
       "No                     2483\n",
       "Yes                    1445\n",
       "No internet service    1053\n",
       "Name: count, dtype: int64"
      ]
     },
     "execution_count": 103,
     "metadata": {},
     "output_type": "execute_result"
    }
   ],
   "source": [
    "df_subset['OnlineSecurity'].value_counts()"
   ]
  },
  {
   "cell_type": "code",
   "execution_count": null,
   "id": "3ec1d64a-53e1-4f13-8fe1-de8f60fb197d",
   "metadata": {},
   "outputs": [],
   "source": []
  },
  {
   "cell_type": "code",
   "execution_count": 104,
   "id": "e1b21bca-472d-4c17-b2b3-499e87acc3c3",
   "metadata": {},
   "outputs": [
    {
     "data": {
      "image/png": "[encoded data removed]",
      "text/plain": [
       "<Figure size 600x400 with 1 Axes>"
      ]
     },
     "metadata": {},
     "output_type": "display_data"
    }
   ],
   "source": [
    "plt.figure(figsize=(6, 4))\n",
    "sns.countplot(data=df_subset, x='OnlineSecurity', palette = \"hls\")\n",
    "sns.color_palette(\"Set2\")\n",
    "plt.xlabel('Online Security')\n",
    "plt.ylabel('Number of Customers')\n",
    "plt.grid(axis='y', linestyle='--', alpha=0.4)\n",
    "plt.tight_layout()\n",
    "plt.show()"
   ]
  },
  {
   "cell_type": "markdown",
   "id": "4779d2b9-1265-4004-a926-f88206f7782c",
   "metadata": {},
   "source": [
    "The bar plot above shows us how many number of customers have online security or not. Some of the customers don't have Internet services.\n",
    "But maximum of them choose to not have ONline Security. We'll later find out if Online Security influences churn or not."
   ]
  },
  {
   "cell_type": "markdown",
   "id": "2d285685-fa4c-4f8e-b589-f825929ce32c",
   "metadata": {},
   "source": [
    "## Task 4.2: Two Variables Visualization"
   ]
  },
  {
   "cell_type": "code",
   "execution_count": 107,
   "id": "1b26aefd-dab5-435d-9fe9-9252e5159478",
   "metadata": {},
   "outputs": [
    {
     "data": {
      "text/plain": [
       "SeniorCitizen\n",
       "0    4173\n",
       "1     808\n",
       "Name: count, dtype: int64"
      ]
     },
     "execution_count": 107,
     "metadata": {},
     "output_type": "execute_result"
    }
   ],
   "source": [
    "df_subset['SeniorCitizen'].value_counts()"
   ]
  },
  {
   "cell_type": "markdown",
   "id": "ee9a7fdc-7671-43ef-8c7c-8cc7d8172fe0",
   "metadata": {},
   "source": [
    "### 1) Senior Citizen v/s paperless billing"
   ]
  },
  {
   "cell_type": "code",
   "execution_count": 109,
   "id": "0d2f9430-2740-4a6b-b4ca-76381e712d20",
   "metadata": {},
   "outputs": [
    {
     "data": {
      "image/png": "[encoded data removed]",
      "text/plain": [
       "<Figure size 600x500 with 1 Axes>"
      ]
     },
     "metadata": {},
     "output_type": "display_data"
    }
   ],
   "source": [
    "plt.figure(figsize=(6, 5))\n",
    "sns.countplot(data=df_subset, x='SeniorCitizen', hue='PaperlessBilling')\n",
    "plt.title('Distribution of Paperless Billing by Senior Citizen Status')\n",
    "plt.xlabel('Senior Citizen', labelpad = 25)\n",
    "plt.xticks([0, 1],['No', 'Yes'])\n",
    "plt.ylabel('Count')\n",
    "plt.legend(title='Paperless Billing')\n",
    "plt.tight_layout()\n",
    "plt.show()"
   ]
  },
  {
   "cell_type": "markdown",
   "id": "a0f4aa50-3bd6-44d1-b71a-03bbbfe0518c",
   "metadata": {},
   "source": [
    "The above visualization is to depict relationship between paperless billing and senior citizens. Usually, senior citizens are too cautious about using technology to pay bills and automate their spendings in any way.\n",
    "\n",
    "We can observe that most customers are not senior citizens, we have maximum numbers of non-senior citizens.\n",
    "But we can also see that most customers choose paperless billings, irrespective of their age group.\n",
    "\n",
    "We are trying to find if this affects churn or not"
   ]
  },
  {
   "cell_type": "code",
   "execution_count": 111,
   "id": "ed1f36e0-3776-44f6-9f3d-16e2670a2ac5",
   "metadata": {},
   "outputs": [],
   "source": [
    "df_subset['New_Churn'] = df_subset['Churn'].map({'Yes': 1, 'No': 0})"
   ]
  },
  {
   "cell_type": "code",
   "execution_count": 112,
   "id": "c34f0528-0389-4f0b-ad59-ca9322cb29ab",
   "metadata": {},
   "outputs": [
    {
     "name": "stdout",
     "output_type": "stream",
     "text": [
      "SeniorCitizen  PaperlessBilling\n",
      "0              No                  0.154506\n",
      "               Yes                 0.311823\n",
      "1              No                  0.303371\n",
      "               Yes                 0.457143\n",
      "Name: New_Churn, dtype: float64\n"
     ]
    }
   ],
   "source": [
    "churn_rate = df_subset.groupby(['SeniorCitizen', 'PaperlessBilling'])['New_Churn'].mean()\n",
    "print(churn_rate)"
   ]
  },
  {
   "cell_type": "markdown",
   "id": "9a5dfed2-c07b-4a39-93e5-f0f02c68906b",
   "metadata": {},
   "source": [
    "The churn rate that we have calculated show us that with non-senior citizen customers using paperless billings have churned doubled from non-paperless billings(from around 15% to 31%).\n",
    "Whereas, senior citizens with paperless billings have churned more than Non-paperless billings customers."
   ]
  },
  {
   "cell_type": "markdown",
   "id": "0ba30be8-ad75-4b01-a7d3-0360b444e6c4",
   "metadata": {},
   "source": [
    "### 2) Monthly charges v/s Churn"
   ]
  },
  {
   "cell_type": "markdown",
   "id": "730c20df-c2a4-4265-b3d0-1ef1a6c5e941",
   "metadata": {},
   "source": [
    "This box-plot visualization can tell us if customers paying more monthly charges are churning more or not."
   ]
  },
  {
   "cell_type": "code",
   "execution_count": 116,
   "id": "6a7a3666-ae92-4e23-865f-f373315e52be",
   "metadata": {},
   "outputs": [
    {
     "data": {
      "image/png": "[encoded data removed]",
      "text/plain": [
       "<Figure size 500x600 with 1 Axes>"
      ]
     },
     "metadata": {},
     "output_type": "display_data"
    }
   ],
   "source": [
    "plt.figure(figsize=(5, 6))\n",
    "sns.boxplot(data=df_subset, x='Churn', y='MonthlyCharges', hue='Churn', palette='Set2')\n",
    "\n",
    "plt.title('Monthly Charges by Churn Status')\n",
    "plt.xlabel('Churn')\n",
    "plt.ylabel('Monthly Charges ($)')\n",
    "plt.tight_layout()\n",
    "plt.show()"
   ]
  },
  {
   "cell_type": "markdown",
   "id": "72e0ec79-7a8d-45ae-a8c7-c6c6bb47a305",
   "metadata": {},
   "source": [
    "Looking at the box-plot, we can see that median of monthly charges paid by churn customers are higher than the ones who are not churning.\n",
    "\n",
    "With this information, we can change the monthly plans or offer discounts."
   ]
  },
  {
   "cell_type": "markdown",
   "id": "24acb37a-0acf-42c8-86e0-61848046635b",
   "metadata": {},
   "source": [
    "### 3) Contract type v/s Total Charges"
   ]
  },
  {
   "cell_type": "markdown",
   "id": "c233d922-fce2-484b-b323-59db990f2ef0",
   "metadata": {},
   "source": [
    "This graph can show us whether our loyal(longer tenure customers) are paying more or less compared to the rest."
   ]
  },
  {
   "cell_type": "code",
   "execution_count": 120,
   "id": "78cdcac5-ed03-4d0b-9368-31a73e2a9e8e",
   "metadata": {},
   "outputs": [
    {
     "data": {
      "image/png": "[encoded data removed]",
      "text/plain": [
       "<Figure size 800x600 with 1 Axes>"
      ]
     },
     "metadata": {},
     "output_type": "display_data"
    }
   ],
   "source": [
    "plt.figure(figsize=(8, 6))\n",
    "sns.boxplot(data=df_subset, x='Contract', y='TotalCharges', hue = \"Contract\", palette='Set3')\n",
    "\n",
    "plt.title('Total Charges by Contract Type')\n",
    "plt.xlabel('Contract Type')\n",
    "plt.ylabel('Total Charges ($)')\n",
    "plt.tight_layout()\n",
    "plt.show()"
   ]
  },
  {
   "cell_type": "markdown",
   "id": "a1ef1b55-fbb3-4355-937c-93151faa8503",
   "metadata": {},
   "source": [
    "Monthly contract customers: These customers have lower total cost maybe because they churn earlier on and don't stay longer.\n",
    "Variability can be seen with a lot of outliers in this group.\n",
    "\n",
    "One-year Contract Customers: Here, the median is quite higher than monthly contact customers.\n",
    "They are also paying more than the previous group. \n",
    "\n",
    "Two-year Contrcat Customers: This group has highest median and the highest total charges, which can show their loyalty and commitment to company."
   ]
  },
  {
   "cell_type": "code",
   "execution_count": null,
   "id": "1b080b66-c331-4f7b-86c0-ba2d163e5477",
   "metadata": {},
   "outputs": [],
   "source": []
  },
  {
   "cell_type": "markdown",
   "id": "21cc5a79-0936-48de-a674-be5f89d198bc",
   "metadata": {},
   "source": [
    "## Task 4.3: Three Variables Visualization"
   ]
  },
  {
   "cell_type": "markdown",
   "id": "411be47b-7cf0-4692-829b-285e6a40f88c",
   "metadata": {},
   "source": [
    "### 1)Total Charges v/s Churn v/s Gender"
   ]
  },
  {
   "cell_type": "code",
   "execution_count": 124,
   "id": "e288e3b3-6864-4b2b-9eb0-71ce0e56365d",
   "metadata": {},
   "outputs": [
    {
     "data": {
      "image/png": "[encoded data removed]",
      "text/plain": [
       "<Figure size 1272.12x500 with 2 Axes>"
      ]
     },
     "metadata": {},
     "output_type": "display_data"
    }
   ],
   "source": [
    "g = sns.FacetGrid(df_subset, col=\"gender\", hue=\"Churn\", height=5, aspect=1.2, palette=\"Set3\")\n",
    "g.map(sns.histplot, \"TotalCharges\", bins=30, kde=True, alpha=0.6)\n",
    "g.add_legend(title=\"Churn\")\n",
    "g.set_axis_labels(\"Total Charges ($)\", \"Number of Customers\")\n",
    "g.fig.suptitle(\"Total Charges by Gender and Churn\", fontsize=16, y=1.05)\n",
    "plt.show()"
   ]
  },
  {
   "cell_type": "markdown",
   "id": "e5137617-7053-4b8a-a9c1-b48c2e05a18c",
   "metadata": {},
   "source": [
    "The above visualization shows that the pattern of churn is the same for both, male and female. The total cost paid by male and female are the almost similar. \n",
    "The people with lower total charges are churning, whereas higher total charges people tend to stay. \n",
    "This is could mean that loyal customers(people who have been a customer for a while) are choosing to stay. Whereas the new customers are leaving. \n",
    "We would need strategies to make the new customers to stay. And identify the problems they are facing."
   ]
  },
  {
   "cell_type": "markdown",
   "id": "5614326c-88c5-4a01-a160-80d6ed97513a",
   "metadata": {},
   "source": [
    "### 2) Monthly Charges v/s Contract Type v/s Tenure Group"
   ]
  },
  {
   "cell_type": "code",
   "execution_count": 127,
   "id": "dbb09d89-2590-4597-80b0-739ac70e20dd",
   "metadata": {},
   "outputs": [
    {
     "data": {
      "image/png": "[encoded data removed]",
      "text/plain": [
       "<Figure size 1511.11x500 with 3 Axes>"
      ]
     },
     "metadata": {},
     "output_type": "display_data"
    }
   ],
   "source": [
    "# Plot\n",
    "g = sns.catplot(\n",
    "    data=df_subset,\n",
    "    x='Contract',\n",
    "    y='MonthlyCharges',\n",
    "    col='TenureGroup',\n",
    "    kind='box',\n",
    "    height=5,\n",
    "    aspect=1\n",
    ")\n",
    "\n",
    "g.set_axis_labels(\"Contract Type\", \"Monthly Charges ($)\")\n",
    "g.set_titles(\"Tenure Group = {col_name}\")\n",
    "g.fig.suptitle(\"Monthly Charges by Contract Type and Tenure Group\", fontsize=16, y=1.05)\n",
    "plt.tight_layout()\n",
    "plt.show()"
   ]
  },
  {
   "cell_type": "markdown",
   "id": "c11bf05c-ae6a-4a34-8c15-bea429b9b0b9",
   "metadata": {},
   "source": [
    "The above box plot depicts:\n",
    "New customers: are paying high in month-to-month contracts whereas longer contract customers are paying less. The median is high here.\n",
    "The longer contracts even for new customers are paying less.\n",
    "\n",
    "Mid customers: for monthly contracts still high charges are recorded.\n",
    "One year contrcat's median charges are moderate here. Two years contracts pay less than month to month ones\n",
    "\n",
    "Loyal customers: The total monthly rates for all contracts are greater, particularly for one-year and month-to-month contracts.\n",
    "It's possible that long-term users have added services over time, which explains why the differences across contract types are less clear.\n",
    "The benefits of contracts decrease with loyalty as the cost of upgrades, bundles, or service additions increases.\n",
    "Perspective: Price reductions are not always the result of loyalty. Due to the loss of early savings or additional services, loyal consumers typically pay more."
   ]
  },
  {
   "cell_type": "markdown",
   "id": "f8b2dbfe-7ecc-4f7f-a646-133c155a0f29",
   "metadata": {},
   "source": [
    "### 3) Multiple lines v/s Contract Type v/s Churn Rate"
   ]
  },
  {
   "cell_type": "code",
   "execution_count": 130,
   "id": "7292fefe-795f-49ee-98d9-b2ad51562023",
   "metadata": {},
   "outputs": [
    {
     "name": "stdout",
     "output_type": "stream",
     "text": [
      "['Yes' 'No']\n",
      "object\n"
     ]
    }
   ],
   "source": [
    "print(df_subset['Churn'].unique())\n",
    "print(df_subset['Churn'].dtype)"
   ]
  },
  {
   "cell_type": "markdown",
   "id": "3fb56c0f-9073-4ac7-b6b9-f38dd207dc9e",
   "metadata": {},
   "source": [
    "We have to find churn rate. I grouped contract and multiple lines as we have to find churn across these features. \n",
    "\n",
    "I determined the average of the Churn column, which provides the churn rate, for every group. "
   ]
  },
  {
   "cell_type": "code",
   "execution_count": 132,
   "id": "020cdc83-821e-48e3-be90-7c1f06710258",
   "metadata": {},
   "outputs": [],
   "source": [
    "churn_rate = df_subset.groupby(['Contract', 'MultipleLines'])['New_Churn'].mean().reset_index()"
   ]
  },
  {
   "cell_type": "code",
   "execution_count": 133,
   "id": "cba14993-2b32-4abd-b149-cb931c117bbd",
   "metadata": {},
   "outputs": [
    {
     "data": {
      "image/png": "[encoded data removed]",
      "text/plain": [
       "<Figure size 1000x600 with 1 Axes>"
      ]
     },
     "metadata": {},
     "output_type": "display_data"
    }
   ],
   "source": [
    "plt.figure(figsize=(10, 6))\n",
    "sns.lineplot(data=churn_rate, x='Contract', y='New_Churn', hue='MultipleLines', marker='o')\n",
    "plt.title('Churn Rate by Contract Type and Multiple Lines')\n",
    "plt.ylabel('Churn Rate')\n",
    "plt.xlabel('Contract Type')\n",
    "plt.grid(True)\n",
    "plt.show()"
   ]
  },
  {
   "cell_type": "markdown",
   "id": "de7c13f0-5e6e-489a-ab3e-cffcf70aa15d",
   "metadata": {},
   "source": [
    "The above line graph depicts that customers with monthly contract have a higher churn rate compared to longer contracts.\n",
    "\n",
    "It also shows that customers who have multiple lines tend also have a slight higher churn rate.\n",
    "\n",
    "We can say that people who have multiple lines tend to churn more."
   ]
  },
  {
   "cell_type": "code",
   "execution_count": 135,
   "id": "fd3f6f86-6d6c-42c0-a282-766ce5abe054",
   "metadata": {},
   "outputs": [
    {
     "data": {
      "text/html": [
       "<div>\n",
       "<style scoped>\n",
       "    .dataframe tbody tr th:only-of-type {\n",
       "        vertical-align: middle;\n",
       "    }\n",
       "\n",
       "    .dataframe tbody tr th {\n",
       "        vertical-align: top;\n",
       "    }\n",
       "\n",
       "    .dataframe thead th {\n",
       "        text-align: right;\n",
       "    }\n",
       "</style>\n",
       "<table border=\"1\" class=\"dataframe\">\n",
       "  <thead>\n",
       "    <tr style=\"text-align: right;\">\n",
       "      <th></th>\n",
       "      <th>gender</th>\n",
       "      <th>SeniorCitizen</th>\n",
       "      <th>Partner</th>\n",
       "      <th>Dependents</th>\n",
       "      <th>tenure</th>\n",
       "      <th>PhoneService</th>\n",
       "      <th>MultipleLines</th>\n",
       "      <th>InternetService</th>\n",
       "      <th>OnlineSecurity</th>\n",
       "      <th>OnlineBackup</th>\n",
       "      <th>DeviceProtection</th>\n",
       "      <th>TechSupport</th>\n",
       "      <th>StreamingTV</th>\n",
       "      <th>StreamingMovies</th>\n",
       "      <th>Contract</th>\n",
       "      <th>PaperlessBilling</th>\n",
       "      <th>PaymentMethod</th>\n",
       "      <th>MonthlyCharges</th>\n",
       "      <th>TotalCharges</th>\n",
       "      <th>Churn</th>\n",
       "      <th>TenureGroup</th>\n",
       "      <th>New_Churn</th>\n",
       "    </tr>\n",
       "  </thead>\n",
       "  <tbody>\n",
       "    <tr>\n",
       "      <th>185</th>\n",
       "      <td>Female</td>\n",
       "      <td>0</td>\n",
       "      <td>Yes</td>\n",
       "      <td>No</td>\n",
       "      <td>1</td>\n",
       "      <td>No</td>\n",
       "      <td>No phone service</td>\n",
       "      <td>DSL</td>\n",
       "      <td>No</td>\n",
       "      <td>No</td>\n",
       "      <td>No</td>\n",
       "      <td>No</td>\n",
       "      <td>No</td>\n",
       "      <td>No</td>\n",
       "      <td>Month-to-month</td>\n",
       "      <td>Yes</td>\n",
       "      <td>Electronic check</td>\n",
       "      <td>24.80</td>\n",
       "      <td>24.80</td>\n",
       "      <td>Yes</td>\n",
       "      <td>New</td>\n",
       "      <td>1</td>\n",
       "    </tr>\n",
       "    <tr>\n",
       "      <th>2715</th>\n",
       "      <td>Male</td>\n",
       "      <td>0</td>\n",
       "      <td>No</td>\n",
       "      <td>No</td>\n",
       "      <td>41</td>\n",
       "      <td>Yes</td>\n",
       "      <td>Yes</td>\n",
       "      <td>No</td>\n",
       "      <td>No internet service</td>\n",
       "      <td>No internet service</td>\n",
       "      <td>No internet service</td>\n",
       "      <td>No internet service</td>\n",
       "      <td>No internet service</td>\n",
       "      <td>No internet service</td>\n",
       "      <td>Month-to-month</td>\n",
       "      <td>Yes</td>\n",
       "      <td>Bank transfer (automatic)</td>\n",
       "      <td>25.25</td>\n",
       "      <td>996.45</td>\n",
       "      <td>No</td>\n",
       "      <td>Loyal</td>\n",
       "      <td>0</td>\n",
       "    </tr>\n",
       "    <tr>\n",
       "      <th>3825</th>\n",
       "      <td>Female</td>\n",
       "      <td>0</td>\n",
       "      <td>Yes</td>\n",
       "      <td>Yes</td>\n",
       "      <td>52</td>\n",
       "      <td>Yes</td>\n",
       "      <td>No</td>\n",
       "      <td>No</td>\n",
       "      <td>No internet service</td>\n",
       "      <td>No internet service</td>\n",
       "      <td>No internet service</td>\n",
       "      <td>No internet service</td>\n",
       "      <td>No internet service</td>\n",
       "      <td>No internet service</td>\n",
       "      <td>Two year</td>\n",
       "      <td>No</td>\n",
       "      <td>Mailed check</td>\n",
       "      <td>19.35</td>\n",
       "      <td>1031.70</td>\n",
       "      <td>No</td>\n",
       "      <td>Loyal</td>\n",
       "      <td>0</td>\n",
       "    </tr>\n",
       "    <tr>\n",
       "      <th>1807</th>\n",
       "      <td>Female</td>\n",
       "      <td>0</td>\n",
       "      <td>No</td>\n",
       "      <td>No</td>\n",
       "      <td>1</td>\n",
       "      <td>Yes</td>\n",
       "      <td>No</td>\n",
       "      <td>Fiber optic</td>\n",
       "      <td>No</td>\n",
       "      <td>No</td>\n",
       "      <td>Yes</td>\n",
       "      <td>No</td>\n",
       "      <td>No</td>\n",
       "      <td>No</td>\n",
       "      <td>Month-to-month</td>\n",
       "      <td>No</td>\n",
       "      <td>Electronic check</td>\n",
       "      <td>76.35</td>\n",
       "      <td>76.35</td>\n",
       "      <td>Yes</td>\n",
       "      <td>New</td>\n",
       "      <td>1</td>\n",
       "    </tr>\n",
       "    <tr>\n",
       "      <th>132</th>\n",
       "      <td>Male</td>\n",
       "      <td>0</td>\n",
       "      <td>No</td>\n",
       "      <td>No</td>\n",
       "      <td>67</td>\n",
       "      <td>Yes</td>\n",
       "      <td>No</td>\n",
       "      <td>DSL</td>\n",
       "      <td>No</td>\n",
       "      <td>No</td>\n",
       "      <td>No</td>\n",
       "      <td>Yes</td>\n",
       "      <td>No</td>\n",
       "      <td>No</td>\n",
       "      <td>Two year</td>\n",
       "      <td>No</td>\n",
       "      <td>Bank transfer (automatic)</td>\n",
       "      <td>50.55</td>\n",
       "      <td>3260.10</td>\n",
       "      <td>No</td>\n",
       "      <td>Loyal</td>\n",
       "      <td>0</td>\n",
       "    </tr>\n",
       "  </tbody>\n",
       "</table>\n",
       "</div>"
      ],
      "text/plain": [
       "      gender  SeniorCitizen Partner Dependents  tenure PhoneService  \\\n",
       "185   Female              0     Yes         No       1           No   \n",
       "2715    Male              0      No         No      41          Yes   \n",
       "3825  Female              0     Yes        Yes      52          Yes   \n",
       "1807  Female              0      No         No       1          Yes   \n",
       "132     Male              0      No         No      67          Yes   \n",
       "\n",
       "         MultipleLines InternetService       OnlineSecurity  \\\n",
       "185   No phone service             DSL                   No   \n",
       "2715               Yes              No  No internet service   \n",
       "3825                No              No  No internet service   \n",
       "1807                No     Fiber optic                   No   \n",
       "132                 No             DSL                   No   \n",
       "\n",
       "             OnlineBackup     DeviceProtection          TechSupport  \\\n",
       "185                    No                   No                   No   \n",
       "2715  No internet service  No internet service  No internet service   \n",
       "3825  No internet service  No internet service  No internet service   \n",
       "1807                   No                  Yes                   No   \n",
       "132                    No                   No                  Yes   \n",
       "\n",
       "              StreamingTV      StreamingMovies        Contract  \\\n",
       "185                    No                   No  Month-to-month   \n",
       "2715  No internet service  No internet service  Month-to-month   \n",
       "3825  No internet service  No internet service        Two year   \n",
       "1807                   No                   No  Month-to-month   \n",
       "132                    No                   No        Two year   \n",
       "\n",
       "     PaperlessBilling              PaymentMethod  MonthlyCharges  \\\n",
       "185               Yes           Electronic check           24.80   \n",
       "2715              Yes  Bank transfer (automatic)           25.25   \n",
       "3825               No               Mailed check           19.35   \n",
       "1807               No           Electronic check           76.35   \n",
       "132                No  Bank transfer (automatic)           50.55   \n",
       "\n",
       "      TotalCharges Churn TenureGroup  New_Churn  \n",
       "185          24.80   Yes         New          1  \n",
       "2715        996.45    No       Loyal          0  \n",
       "3825       1031.70    No       Loyal          0  \n",
       "1807         76.35   Yes         New          1  \n",
       "132        3260.10    No       Loyal          0  "
      ]
     },
     "execution_count": 135,
     "metadata": {},
     "output_type": "execute_result"
    }
   ],
   "source": [
    "df_subset.head()"
   ]
  },
  {
   "cell_type": "markdown",
   "id": "0d145ee2-6827-4cb7-a33d-cf21b6ab6728",
   "metadata": {},
   "source": [
    "## Task 4.4: Literature Review\n",
    "1. Ahmad et al. (2019) created a customer churn prediction model using Machine Learning Techniques such as Decision Tree, Random forest, Gradient Boosted Machine(GBM) and XGBoost.\n",
    "Nine-month worths of customer data from SyriaTel was used in this study. With the above mentioned ML techniques and Social Network Analysis(SNA) elements comprised the study  and elevated the model's AUC(Area Under Curve) from 84 percent to 93.3 percent. The proposed approach shows the merits of utilizing Social media to enhance the precision of churn prediction in the telecommunication industry.\n",
    "\n",
    "2. Loss of the customers or users is referred to as customer attribution, or customer churn. It is an essential measure for businesses such as banking, insurance, and telecommunications where sustaining the current customers is considerably cheaper than finding new ones.\n",
    "Companies differentiate between voluntary and involuntary churn, voluntary as in customers are choosing to leave whereas involuntary churn is circumstantial\n",
    "Usually, analytical models emphasize on the voluntary churning because variables such as invoicing procedures, customer service standards have an effect on voluntary churn. \n",
    "Organizations use customer relationship management techniques and predictive analytics to identify at-risk clients and carry out focused retention initiatives as a way of combating customer attrition. Maintaining a stable client base and guaranteeing long-term success entail an understanding of, and commitment to, reducing customer attrition.\n",
    "\n",
    "3. Sikri et al. (2024) enhanced the machine learning algorithms' performance with a new ratio-based data balancing method for handling class imbalance in telecom churn datasets. Some algorithms that were tried in their experiment included Perceptron, Multi-Layer Perceptron, Naive Bayes, Logistic Regression, K-Nearest Neighbor, Decision Tree, and ensemble methods such as Gradient Boosting and XGBoost. The most promising results were achieved with the pair of XGBoost and 75:25 data split, and the proposed balancing approach performed better than the traditional over-sampling and under-sampling methods. The research highlights how important efficient data preparation and ensemble algorithms are to improving the precision of churn prediction in the telecommunications sector.\n",
    "\n",
    "4. Shaikhsurab and Magadum (2024) proposed an evolving ensemble learning to enhance the estimation of customer churn in telecom industry. XGBoost, LightGBM, Long Short-Term Memory (LSTM), Multi-Layer Perceptron (MLP), and Support Vector Machine (SVM), heterogenous ML models were combined by using a stacking ensemble approach. To further enhance the ensemble, meta-features are extracted from base model predictions. \n",
    "Extensive data pretreatment and multidimensional feature engineering were used for model optimization. When tested on three publicly available telecom churn datasets, the model outperformed the current state-of-the-art methods with an extremely high accuracy of 99.28%. The study shows how improved preprocessing and ensemble learning can increase churn forecast accuracy.\n",
    "\n",
    "5. The study compares ten consecutive machine learning models - Logistic Regression, Support Vector Classifier (SVC), Kernel Support Vector Machine (Kernel SVM), K-Nearest Neighbors (KNN), Gaussian Naïve Bayes, Decision Tree Classifier, Random Forest, AdaBoost, XGBoost, Gradient Boosting for predicting customer churn.\n",
    "Random Forest performed best with an AUC of 85%.\n",
    "Models were compared using cross-validation and precision, recall, and F1-score metrics.\n",
    "The study emphasizes the strength of ensemble methods for churn prediction.\n",
    "\n",
    "6. Ribeiro et al. (2023) conducted a systematic literature review to find the main causes influencing customer churn in the telecommunications sector. Analysing 37 studies published between the years 1999 and 2022, the authors grouped the research into two primary streams: one focusing on clients \n",
    "intentions to change their providers, mostly assessed through surveys giving important factors like satisfaction and attitudes and the other one is examining real switching behaviors using data from customer management systems. The result highlighted age, gender, customer satisfaction, switching costs and barriers, and service quality as the most important factors associated with churn. The study also provided practical applications for telecom operators and suggested avenues for future research, while understanding limitations such as the exclusion of predictive modeling studies and non-English publications.\n",
    "\n",
    "7. In Mouli et al. (2024), a comparison of ten machine learning models such as Logistic Regression, Random Forest, and XGBoost for customer churn prediction was made, and Random Forest achieved the best AUC of 85% Mouli et al., 2024.\n",
    "Ghosh and Abhishek (2024) conducted a systematic review of 214 research papers during the period 2015–2023 on model performance, feature importance, and application problem real-world issues of churn prediction ResearchGate, 2024.\n",
    "Both papers identify ensemble models and behavioral characteristics of customers as instrumental in enhancing the accuracy of churn prediction.\n",
    "They further suggest that business practitioners also keep interpretability and cost-aware learning in mind while choosing models.\n",
    "\n",
    "8. The Analytics Vidhya (2022) blog entry is a hands-on tutorial on churn analysis using real telecom data. It emphasizes the importance of exploratory data analysis (EDA) and feature correlation in identifying churn drivers. Customer service calls, international plan usage, and account length are the featured key drivers. Although not peer-reviewed, the article is a valuable source of practical tips on applying churn prediction models.\n",
    "\n",
    "9. Sana et al. (2022) developed a novel customer churn predictive model for telecom utilizing data transformation techniques, combined with univariate feature selection. There were various machine learning models utilized in this research with optimal tuning used through grid search to enhance maximum predictive ability. Compared on a number of publicly available telecom datasets, the proposed model demonstrated significant improvements, with as much as a 26.2% AUC improvement and a 17% F-measure improvement over baseline models. These findings indicate the effectiveness of the combination of data preprocessing and feature selection in improving churn prediction accuracy in the telecom sector.\n",
    "\n",
    "10. Zhou et al. (2023) developed an early warning system for customer churn in the telecommunication sector with ensemble learning methods. From a customer dataset of 900,000 records, the study used data preprocessing techniques such as cleaning, oversampling, and standardization. BPNN, RF, and AdaBoost were used to build models, and a two-ensemble model of RF and AdaBoost was suggested. The combined ensembling method achieved higher performance over traditional machine learning algorithms like decision tree, Naive Bayes, K-Nearest Neighbor (KNN), and Support Vector Machine (SVM) with respect to accuracy and F1-scores. The study emphasizes the excellence of ensemble learning in enhancing the predictive capabilities of churn identification systems in telecommunication industries.\n",
    "\n",
    "\n"
   ]
  },
  {
   "cell_type": "markdown",
   "id": "43ae3f64-fc5c-47b3-9629-078d68fa8e57",
   "metadata": {},
   "source": [
    "### Conference paper\n",
    "1. The goal of the study is to use machine learning to create an effective model for predicting client attrition. It emphasizes how crucial it is to look at past and present consumer behavior in order to increase retention. The best effective categorization method is found by comparing different algorithms. The study helps improve the telecom industry's capacity for making decisions.\n",
    "\n",
    "2. The study of Muhammad et al. (2021) proposes a hybrid framework of ensemble learning methods for telecom customer churn prediction. It focuses on the relevance of combining feature selection with machine learning to optimize model accuracy. The study also compares various classifiers, providing improvement in performance by using the proposed method. The study provides nice insights into optimizing models based on real telecom data.\n",
    "\n",
    "3. Kaur and Singh's (2019) study uses Multilayer Perceptron (MLP) and Logistic Regression models to investigate customer attrition prediction in telecommunication networks. The goal of the study is to identify patterns in the customer data analysis that could lead to client attrition. An understanding of how well both models predict customer attrition can be gained by a comparative examination of the two models. The results have implications for the development of client retention strategies in the telecom sector.\n",
    "\n",
    "4. A hybrid model based on deep learning (DL) and machine learning (ML) to predict telecommunication company's customer attrition is proposed by a study based on an open dataset available at Kaggle. The study compares fourteen models and records a maximum accuracy of 98.4% with and 99.12% without applying feature selection. The study quotes that retaining customers is less expensive than acquiring new customers and thus underscores the importance of implementing measures for knowing why customers are attriting as a thrust for successful retention. The proposed methodology, which outperforms methods available in literature, emphasizes systematic process for data process and analysis. The results identify how efficient hybrid methods are with respect to operation efficiency and accuracy of churn prediction.\n",
    "\n",
    "5. Wang Linlin and others, who are authors of this study, explain how China's telecommunication industry is evolving, with a concentration on changing traditional service provision to integrated information services. They identify determinants of service quality, including coverage provided by the network, customer service, and image of the business, and propose a framework for measuring telecommunication service quality based around the customer. The writers suggest a systematic index system and strategic matrix analysis technique for measuring service quality based on dimensions along importance and satisfaction surveys. It is evident, according to the study, that telecommunication operators have to improve customer satisfaction, specifically with respect to tariffs and effective supporting staff, to lead business to better provision of service."
   ]
  },
  {
   "cell_type": "markdown",
   "id": "d7a6917e-a75b-46a7-aabd-e3eebedd9ce6",
   "metadata": {
    "jp-MarkdownHeadingCollapsed": true
   },
   "source": [
    "# Task 5: Summary and Conclusion\n",
    "In this phase 1 of Machine Learning assignment, we have performed the initial and essesntial stages of Machine Learning project, which are Data Cleaning and drawing insights using aggregations. \n",
    "\n",
    "We have performed data visualization to find trends and co-relation between the features. Like features like gender and total charges are not co-related. Most customers, in genral, were churning in their initial days of joining. We will determine which factors highly influence in the phase 2 of the assignment. \n",
    "\n",
    "From the industry point of view, finding out if customers are churning due to prices or customer services or issues with add-on services can help us discover bases that require improvements.\n",
    "Making changes to the monthly plans or new contract offers(such as 6-month) can cause the customer rentention rates to go down. In the telecommunication industry, gaining customers is not as challenging as having loyal customers.\n",
    "\n",
    "Our Analysis showed us some loyal customers, payment patterns across various contract types and customer tendencies towards add ons and online security. It also showed us that customers paying more compared to others tend to stay.\n",
    "This could because they have been with this provider for long enough or have chosen a two-year contract. But our analysis hasn't been able to identify which variables marginally affect churn. We will perform statistical tests in phase 2 to find out. Stay tuned!"
   ]
  },
  {
   "cell_type": "markdown",
   "id": "0ec3441f",
   "metadata": {},
   "source": [
    "# Task 6: Reference\n",
    "\n",
    "The dataset was retrieved from:\n",
    "\n",
    "Akmand, H. (n.d.). Datasets. GitHub. Retrieved from https://github.com/akmand/datasets/blob/main/telco_customer_churn.csv\n",
    "\n",
    "- Ahmad, A. K., Jafar, A., & Aljoumaa, K. (2019). Customer churn prediction in telecom using machine learning in big data platform. Journal of Big Data, 6(1), 28. https://doi.org/10.1186/s40537-019-0191-6 \n",
    "\n",
    "- Mouli, K. C., Raghavendran, C. V., Bharadwaj, V. Y., Vybhavi, G. Y., Sravani, C., Vafaeva, K. M., Deorari, R., & Husseine, L. (2024). An analysis on classification models for customer churn prediction. Cogent Engineering, 11(1), 2378877. https://doi.org/10.1080/23311916.2024.2378877\n",
    "\n",
    "- Manzoor, A., Qureshi, M. A., Kidney, E., & Longo, L. (2024, January). A review on machine learning methods for customer churn prediction and recommendations for business practitioners. ResearchGate. https://www.researchgate.net/publication/380642749_A_Review_on_Machine_Learning_Methods_for_Customer_Churn_Prediction_and_Recommendations_for_Business_Practitioners\n",
    "\n",
    "- Zhou, Y., Chen, W., Sun, X., & Yang, D. (2023). Early warning of telecom enterprise customer churn based on ensemble learning. PLOS ONE, 18(10), e0292466. https://doi.org/10.1371/journal.pone.0292466 \n",
    "\n",
    "- Sana, J. K., Abedin, M. Z., Rahman, M. S., & Rahman, M. S. (2022). A novel customer churn prediction model for the telecommunication industry using data transformation methods and feature selection. PLOS ONE, 17(12), e0278095. https://doi.org/10.1371/journal.pone.0278095 \n",
    "\n",
    "- Shaikhsurab, M. A., & Magadum, P. (2024). Enhancing customer churn prediction in telecommunications: An adaptive ensemble learning approach. arXiv. https://doi.org/10.48550/arXiv.2408.16284 \n",
    "\n",
    "- Analytics Vidhya. (2022, January 21). Churn analysis of a telecom company. https://www.analyticsvidhya.com/blog/2022/01/churn-analysis-of-a-telecom-company/ \n",
    "\n",
    "- Ribeiro, H., Barbosa, B., Moreira, A. C., & Rodrigues, R. G. (2023). Determinants of churn in telecommunication services: A systematic literature review. Management Review Quarterly, 74, 1327–1364. https://doi.org/10.1007/s11301-023-00335-7 \n",
    "\n",
    "- Sikri, A., Jameel, R., Idrees, S. M., & Kaur, H. (2024). Explaining customer churn prediction in telecom industry using explainable AI. Heliyon, 10(4), e04321. https://doi.org/10.1016/j.heliyon.2024.e04321\n",
    "\n",
    "- Wikipedia contributors. (n.d.). Customer attrition. Wikipedia. Retrieved April 13, 2025, from https://en.wikipedia.org/wiki/Customer_attrition\n",
    "\n",
    "- Huang, B.-J., Kechadi, M.-T., & Buckley, B. (2007). Customer Churn Prediction in Telecommunications. 2007 International Conference on Digital Telecommunications (ICDT'07), 23–28. https://ieeexplore.ieee.org/document/4280107/ \n",
    "\n",
    "- Tejada-Vicente, L., Rosado-Oliden, D., & Mauricio-Santos, D. (2024, November 6). Prediction of telecommunications customer churn based on hybrid machine learning and deep learning algorithms. IEEE Xplore. https://ieeexplore.ieee.org/stamp/stamp.jsp?tp=&arnumber=10833498\n",
    "\n",
    "- Wang, L., Zhu, R., Liu, Z., & Shen, G. (2007, June 1). The exploration of evaluation method of telecommunication service quality based on customer experience in transition period. IEEE Xplore. https://ieeexplore.ieee.org/document/4280107\n",
    "\n",
    "- Muhammad, H., Khan, N. A., Jamal, M., Khan, S., Anwar, M. W., & Kim, H. (2021). A Hybrid Oversampling Approach and Ensemble Learning Model to Predict Customer Churn in the Telecommunication Sector. 2021 International Conference on Information Networking (ICOIN), https://ieeexplore.ieee.org/document/9642137 \n",
    "\n",
    "- Kaur, H., & Singh, M. (2019). Customer churn prediction in mobile networks using Logistic Regression and Multilayer Perceptron (MLP). 2019 International Conference on Automation, Computational and Technology Management (ICACTM), 400–405. https://ieeexplore.ieee.org/document/8752982 "
   ]
  },
  {
   "cell_type": "code",
   "execution_count": null,
   "id": "1df39091-8ab9-4147-aa68-ed27c2489c92",
   "metadata": {},
   "outputs": [],
   "source": []
  }
 ],
 "metadata": {
  "kernelspec": {
   "display_name": "Python 3 (ipykernel)",
   "language": "python",
   "name": "python3"
  },
  "language_info": {
   "codemirror_mode": {
    "name": "ipython",
    "version": 3
   },
   "file_extension": ".py",
   "mimetype": "text/x-python",
   "name": "python",
   "nbconvert_exporter": "python",
   "pygments_lexer": "ipython3",
   "version": "3.11.7"
  }
 },
 "nbformat": 4,
 "nbformat_minor": 5
}
